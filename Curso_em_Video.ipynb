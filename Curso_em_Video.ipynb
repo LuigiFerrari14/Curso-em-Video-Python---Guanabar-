{
  "nbformat": 4,
  "nbformat_minor": 0,
  "metadata": {
    "colab": {
      "name": "Curso em Video.ipynb",
      "provenance": [],
      "authorship_tag": "ABX9TyP5kvMfkrv/r+dImDcUyWbv",
      "include_colab_link": true
    },
    "kernelspec": {
      "name": "python3",
      "display_name": "Python 3"
    },
    "language_info": {
      "name": "python"
    }
  },
  "cells": [
    {
      "cell_type": "markdown",
      "metadata": {
        "id": "view-in-github",
        "colab_type": "text"
      },
      "source": [
        "<a href=\"https://colab.research.google.com/github/LuigiFerrari14/Curso-em-Video-Python---Guanabar-/blob/main/Curso_em_Video.ipynb\" target=\"_parent\"><img src=\"https://colab.research.google.com/assets/colab-badge.svg\" alt=\"Open In Colab\"/></a>"
      ]
    },
    {
      "cell_type": "code",
      "execution_count": null,
      "metadata": {
        "colab": {
          "base_uri": "https://localhost:8080/"
        },
        "id": "F_RLo70fCpJo",
        "outputId": "9be357f6-ba23-49b2-e451-35ac393c6400"
      },
      "outputs": [
        {
          "output_type": "stream",
          "name": "stdout",
          "text": [
            "Digite seu nome: Luigi\n",
            "Bem Vindo, Luigi\n"
          ]
        }
      ],
      "source": [
        "#2\n",
        "nome = input(\"Digite seu nome: \")\n",
        "\n",
        "print('Bem Vindo, {}'.format(nome))"
      ]
    },
    {
      "cell_type": "code",
      "source": [
        "#3\n",
        "num1 = int(input(\"Digite um valor: \"))\n",
        "num2 = int(input(\"Digite um valor: \"))\n",
        "\n",
        "resultado = num1+num2\n",
        "\n",
        "print('A soma entre {} e {} é igual a {}'.format(num1,num2,resultado\n",
        "                                                 ))\n"
      ],
      "metadata": {
        "colab": {
          "base_uri": "https://localhost:8080/"
        },
        "id": "XMIyGI1ZHzxJ",
        "outputId": "019c7d7a-ad08-4d43-ebdf-6a1902feb5f0"
      },
      "execution_count": null,
      "outputs": [
        {
          "output_type": "stream",
          "name": "stdout",
          "text": [
            "Digite um valor: 5\n",
            "Digite um valor: 9\n",
            "A soma entre 5 e 9 é igual a 14\n"
          ]
        }
      ]
    },
    {
      "cell_type": "code",
      "source": [
        "#4\n",
        "algo = input(\"Digite algo: \")\n",
        "print('Só tem espaços?', algo.isspace())\n",
        "print('é um número?', algo.isnumeric())\n",
        "print('é alfabetico?', algo.isalpha())\n",
        "print('é maiusculo?', algo.isupper())\n",
        "print('é minusculo?', algo.islower())\n",
        "print('é capitalizada?', algo.istitle())"
      ],
      "metadata": {
        "colab": {
          "base_uri": "https://localhost:8080/"
        },
        "id": "v6wAHxMcIP23",
        "outputId": "5cb8669b-daaa-4215-fcc0-560ff3bb82ae"
      },
      "execution_count": null,
      "outputs": [
        {
          "output_type": "stream",
          "name": "stdout",
          "text": [
            "Digite algo: Doido\n",
            "Só tem espaços? False\n",
            "é um número? False\n",
            "é alfabetico? True\n",
            "é maiusculo? False\n",
            "é minusculo? False\n",
            "é capitalizada? True\n"
          ]
        }
      ]
    },
    {
      "cell_type": "code",
      "source": [
        "#5\n",
        "num = int(input(\"Digite um valor: \"))\n",
        "prox = num + 1\n",
        "ant = num - 1\n",
        "\n",
        "print('Analisando o valor {}, seu antecessor é {} e o seu sucessor é {}'.format(num, ant, prox))"
      ],
      "metadata": {
        "colab": {
          "base_uri": "https://localhost:8080/"
        },
        "id": "URmJAi4qJz1w",
        "outputId": "2f4176e6-7aba-417f-90f3-cb08460a3403"
      },
      "execution_count": null,
      "outputs": [
        {
          "output_type": "stream",
          "name": "stdout",
          "text": [
            "Digite um valor: 0\n",
            "Analisando o valor 0, seu antecessor é -1 e o seu sucessor é 1\n"
          ]
        }
      ]
    },
    {
      "cell_type": "code",
      "source": [
        "#6\n",
        "import math\n",
        "\n",
        "num = int(input(\"Digite um valor: \"))\n",
        "dobro = num*2\n",
        "triplo = num*3\n",
        "raiz = math.sqrt(num)\n",
        "\n",
        "print('O dobro de {} é {}'.format(num, dobro))\n",
        "print('O triplo de {} é {}'.format(num, triplo))\n",
        "print('A raiz de {} é {}'.format(num, raiz))\n"
      ],
      "metadata": {
        "colab": {
          "base_uri": "https://localhost:8080/"
        },
        "id": "eu3FMgX3KQOv",
        "outputId": "34f81a2a-2afb-4e30-dccf-b12a6ac56583"
      },
      "execution_count": null,
      "outputs": [
        {
          "output_type": "stream",
          "name": "stdout",
          "text": [
            "Digite um valor: 25\n",
            "O dobro de 25 é 50\n",
            "O triplo de 25 é 75\n",
            "A raiz de 25 é 5.0\n"
          ]
        }
      ]
    },
    {
      "cell_type": "code",
      "source": [
        "#7\n",
        "nota1 = float(input(\"Primeira nota: \"))\n",
        "nota2 = float(input(\"Segunda nota: \"))\n",
        "media = (nota1+nota2)/2\n",
        "print(\"A média entre {} e {} é igual a {}\".format(nota1, nota2, media))\n"
      ],
      "metadata": {
        "colab": {
          "base_uri": "https://localhost:8080/"
        },
        "id": "fCcn0kpJLEFQ",
        "outputId": "5e7e2b6d-449d-41af-9dfa-3c78faaede58"
      },
      "execution_count": null,
      "outputs": [
        {
          "output_type": "stream",
          "name": "stdout",
          "text": [
            "Primeira nota: 5.5\n",
            "Segunda nota: 2\n",
            "A média entre 5.5 e 2.0 é igual a 3.75\n"
          ]
        }
      ]
    },
    {
      "cell_type": "code",
      "source": [
        "#8\n",
        "medida = float(input(\"Distancia em metros: \"))\n",
        "cm = medida*100\n",
        "mm = medida*1000\n",
        "print(\"A média em cm é {} \".format(cm))\n",
        "print(\"A média em mm é {} \".format(mm))"
      ],
      "metadata": {
        "colab": {
          "base_uri": "https://localhost:8080/"
        },
        "id": "dhJDYGjPL9Bk",
        "outputId": "c715d2ec-f6d8-46d6-e6b8-7eee75670f85"
      },
      "execution_count": null,
      "outputs": [
        {
          "output_type": "stream",
          "name": "stdout",
          "text": [
            "Distancia em metros: 5\n",
            "A média em cm é 500.0 \n",
            "A média em mm é 5000.0 \n"
          ]
        }
      ]
    },
    {
      "cell_type": "code",
      "source": [
        "#9\n",
        "num = int(input(\"Digite um valor para ver sua tabuada: \"))\n",
        "for n in range(0,11):\n",
        "  resultado = num * n\n",
        "  print(\"{} X {:2} = {}\".format(num,n,resultado))"
      ],
      "metadata": {
        "colab": {
          "base_uri": "https://localhost:8080/"
        },
        "id": "oNhqn-9mMWKL",
        "outputId": "67c2e41d-4e09-4414-b846-4c28f7378ec7"
      },
      "execution_count": null,
      "outputs": [
        {
          "output_type": "stream",
          "name": "stdout",
          "text": [
            "Digite um valor para ver sua tabuada: 5\n",
            "5 X  0 = 0\n",
            "5 X  1 = 5\n",
            "5 X  2 = 10\n",
            "5 X  3 = 15\n",
            "5 X  4 = 20\n",
            "5 X  5 = 25\n",
            "5 X  6 = 30\n",
            "5 X  7 = 35\n",
            "5 X  8 = 40\n",
            "5 X  9 = 45\n",
            "5 X 10 = 50\n"
          ]
        }
      ]
    },
    {
      "cell_type": "code",
      "source": [
        "#10\n",
        "print('Digite a quantia a ser convertida')\n",
        "N=float(input('R$:'))\n",
        "print(f'R${N} = U${N/5.0 :.2f}')\n"
      ],
      "metadata": {
        "colab": {
          "base_uri": "https://localhost:8080/"
        },
        "id": "hAM4r8eoOvwC",
        "outputId": "22166c24-c1d5-4b93-e0cb-06b9df210357"
      },
      "execution_count": null,
      "outputs": [
        {
          "output_type": "stream",
          "name": "stdout",
          "text": [
            "Digite a quantia a ser convertida\n",
            "R$:10\n",
            "R$10.0 = U$2.00\n"
          ]
        }
      ]
    },
    {
      "cell_type": "code",
      "source": [
        "#11\n",
        "largura = float(input(\"Digite a largura da parede: \"))\n",
        "altura = float(input(\"Digite a largura da parede: \"))\n",
        "\n",
        "\n",
        "dimensao = largura*altura\n",
        "litros = dimensao/2\n",
        "\n",
        "print(\"Sua parede tem a dimensao de {}x{} e sua área é de {}m2\".format(largura,altura,dimensao))\n",
        "print(\"Para pintar essa parede, você precisara de {}l de tinta\".format(litros))"
      ],
      "metadata": {
        "colab": {
          "base_uri": "https://localhost:8080/"
        },
        "id": "-3RG5tbENO24",
        "outputId": "b797f9a1-91e0-4eb8-aa57-196784160301"
      },
      "execution_count": null,
      "outputs": [
        {
          "output_type": "stream",
          "name": "stdout",
          "text": [
            "Digite a largura da parede: 5\n",
            "Digite a largura da parede: 10\n",
            "Sua parede tem a dimensao de 5.0x10.0 e sua área é de 50.0m2\n",
            "Para pintar essa parede, você precisara de 25.0l de tinta\n"
          ]
        }
      ]
    },
    {
      "cell_type": "code",
      "source": [
        "#12\n",
        "preco = float(input(\"Digite o preço do produto: \"))\n",
        "desconto = preco*5/100\n",
        "novopreco = preco - desconto\n",
        "print(\"O produto que custava {} com desconto de 5% vai custar {:.2f}\".format(preco,novopreco))"
      ],
      "metadata": {
        "colab": {
          "base_uri": "https://localhost:8080/"
        },
        "id": "LoviV5l5O-3g",
        "outputId": "b36d2b12-ac6a-40df-8e6f-1a3ce43e553e"
      },
      "execution_count": null,
      "outputs": [
        {
          "output_type": "stream",
          "name": "stdout",
          "text": [
            "Digite o preço do produto: 123.95\n",
            "O produto que custava 123.95 com desconto de 5% vai custar 117.75\n"
          ]
        }
      ]
    },
    {
      "cell_type": "code",
      "source": [
        "#13\n",
        "n1 = float(input('Digite seu salário R$'))\n",
        "s = n1 + (n1 * 15 / 100)\n",
        "print(f'O novo salário com 15% de aumento será: R${s:.2f}')"
      ],
      "metadata": {
        "colab": {
          "base_uri": "https://localhost:8080/"
        },
        "id": "h4vso1w1P0u7",
        "outputId": "650eed93-25d0-480c-8cad-371057029fc8"
      },
      "execution_count": null,
      "outputs": [
        {
          "output_type": "stream",
          "name": "stdout",
          "text": [
            "Digite seu salário R$4319.43\n",
            "O novo salário será: R$4967.34\n"
          ]
        }
      ]
    },
    {
      "cell_type": "code",
      "source": [
        "#14\n",
        "celsius = float(input('Digite a temperatura em °C: '))\n",
        "print('A temperatura em Fahrenheit é {:.1f} °F.'.format(celsius * 1.8 + 32))"
      ],
      "metadata": {
        "colab": {
          "base_uri": "https://localhost:8080/"
        },
        "id": "9r3Vk4f4QNrb",
        "outputId": "98e6af3b-1c18-4212-b919-b22806dd82ea"
      },
      "execution_count": null,
      "outputs": [
        {
          "output_type": "stream",
          "name": "stdout",
          "text": [
            "Digite a temperatura em °C: 50\n",
            "A temperatura em Fahrenheit é 122.0 °F.\n"
          ]
        }
      ]
    },
    {
      "cell_type": "code",
      "source": [
        "#15\n",
        "km = float(input('Quantos quilômetros você percorreu com o carro alugado? '))\n",
        "dias = int(input('Quantos dias você passou com o carro alugado? '))\n",
        "valor = (dias * 60) + (km * 0.15)\n",
        "print('O preço total é de R${:.2f}'.format(valor))"
      ],
      "metadata": {
        "id": "mN2bgM9RQZd4"
      },
      "execution_count": null,
      "outputs": []
    },
    {
      "cell_type": "code",
      "source": [
        "#16\n",
        "import math\n",
        "numero = float(input('Digite um numero: '))\n",
        "print(\"O valor inteiro é: {}\".format(math.trunc(numero)))\n"
      ],
      "metadata": {
        "colab": {
          "base_uri": "https://localhost:8080/"
        },
        "id": "TLa0wZ6xRtCx",
        "outputId": "6e8dae20-855e-45dd-db6a-5773c4690f33"
      },
      "execution_count": null,
      "outputs": [
        {
          "output_type": "stream",
          "name": "stdout",
          "text": [
            "Digite um numero: 8.465\n",
            "O valor inteiro é: 8\n"
          ]
        }
      ]
    },
    {
      "cell_type": "code",
      "source": [
        "#17\n",
        "from math import sqrt\n",
        "print('Calculando a Hipotenusa')\n",
        "co = float(input('Insira o valor do cateto oposto: '))\n",
        "ca = float(input('Insira o valor do cateto adjacente: '))\n",
        "\n",
        "hi = (co ** 2) + (ca ** 2)\n",
        "\n",
        "hi = sqrt(hi)\n",
        "print('A hipotenusa desse triângulo é:{:.2f}'.format(hi))"
      ],
      "metadata": {
        "colab": {
          "base_uri": "https://localhost:8080/"
        },
        "id": "77d0wAsKS9fd",
        "outputId": "223ebff2-81e3-4a79-a006-e724291fca87"
      },
      "execution_count": null,
      "outputs": [
        {
          "output_type": "stream",
          "name": "stdout",
          "text": [
            "Calculando a Hipotenusa\n",
            "Insira o valor do cateto oposto: 10\n",
            "Insira o valor do cateto adjacente: 8\n",
            "A hipotenusa desse triângulo é:12.81\n"
          ]
        }
      ]
    },
    {
      "cell_type": "code",
      "source": [
        "#18\n",
        "import math\n",
        "an = float(input('digite o angulo q deseja? '))\n",
        "r = math.radians(an)\n",
        "s = math.sin(r)\n",
        "c = math.cos(r)\n",
        "t = math.tan(r)\n",
        "print('Angulo {} \\n o seno sera {:.2f} \\n o coseno sera {:.2f} \\n e a trangente sera {:.2f}'.format(an, s, c, t))"
      ],
      "metadata": {
        "colab": {
          "base_uri": "https://localhost:8080/"
        },
        "id": "XpLeGYxjTCGH",
        "outputId": "5a9225c0-4474-4ed8-fe6c-b776bf3a7ce2"
      },
      "execution_count": null,
      "outputs": [
        {
          "output_type": "stream",
          "name": "stdout",
          "text": [
            "digite o angulo q deseja?10\n",
            "Angulo 10.0 \n",
            " o seno sera 0.17 \n",
            " o coseno sera0.98 \n",
            " e a trangente sera 0.18\n"
          ]
        }
      ]
    },
    {
      "cell_type": "code",
      "source": [
        "#19 - CHOICE ESCOLHE UM ELEMTNO NA LISTA\n",
        "import random\n",
        "nome1 = str(input('Digite o 1 nome: '))\n",
        "nome2 = str(input('Digite o 2 nome: '))\n",
        "nome3 = str(input('Digite o 3 nome: '))\n",
        "nome4 = str(input('Digite o 4 nome: '))\n",
        "\n",
        "lista = [nome1, nome2, nome3, nome4]\n",
        "\n",
        "random.choice(lista)"
      ],
      "metadata": {
        "colab": {
          "base_uri": "https://localhost:8080/",
          "height": 105
        },
        "id": "xXjZiMNnT2zZ",
        "outputId": "1f59a8e3-41ef-4cb5-f518-7a56e7017bc2"
      },
      "execution_count": null,
      "outputs": [
        {
          "name": "stdout",
          "output_type": "stream",
          "text": [
            "Digite o 1 nome: a\n",
            "Digite o 2 nome: b\n",
            "Digite o 3 nome: c\n",
            "Digite o 4 nome: d\n"
          ]
        },
        {
          "output_type": "execute_result",
          "data": {
            "text/plain": [
              "'b'"
            ],
            "application/vnd.google.colaboratory.intrinsic+json": {
              "type": "string"
            }
          },
          "metadata": {},
          "execution_count": 44
        }
      ]
    },
    {
      "cell_type": "code",
      "source": [
        "#20 - SHUFFLE MISTURA A LISTA E POE EM ORDEM ALEATORIA\n",
        "import random\n",
        "nome1 = str(input('Digite o 1 nome: '))\n",
        "nome2 = str(input('Digite o 2 nome: '))\n",
        "nome3 = str(input('Digite o 3 nome: '))\n",
        "nome4 = str(input('Digite o 4 nome: '))\n",
        "\n",
        "lista = [nome1, nome2, nome3, nome4]\n",
        "\n",
        "random.shuffle(lista)\n",
        "print(lista)"
      ],
      "metadata": {
        "colab": {
          "base_uri": "https://localhost:8080/"
        },
        "id": "0-n6mrjoU3Lu",
        "outputId": "7f4a7b36-304d-4492-be0b-1d37be3911fc"
      },
      "execution_count": null,
      "outputs": [
        {
          "output_type": "stream",
          "name": "stdout",
          "text": [
            "Digite o 1 nome: a\n",
            "Digite o 2 nome: b\n",
            "Digite o 3 nome: c\n",
            "Digite o 4 nome: d\n",
            "['c', 'd', 'a', 'b']\n"
          ]
        }
      ]
    },
    {
      "cell_type": "code",
      "source": [
        "#22 - STRIP - Ignora os espaços do inicio e fim\n",
        "nome = (input(\"Digite seu nome completo\")).strip()\n",
        "\n",
        "print(nome.upper())\n",
        "print(nome.lower())\n",
        "print(len(nome) - nome.count(' '))\n",
        "print(\"Seu primeiro nome tem {} letras\".format(nome.find(' ')))\n",
        "\n",
        "separa = nome.split()\n",
        "print(separa[0])\n",
        "\n",
        "\n",
        "\n",
        "\n",
        "\n",
        "\n"
      ],
      "metadata": {
        "id": "jbBOXRUGVWP5",
        "colab": {
          "base_uri": "https://localhost:8080/"
        },
        "outputId": "9d148ba4-6f0d-42ee-930d-904891b7c053"
      },
      "execution_count": null,
      "outputs": [
        {
          "output_type": "stream",
          "name": "stdout",
          "text": [
            "Digite seu nome completo  luigi silva ferrari  \n",
            "LUIGI SILVA FERRARI\n",
            "luigi silva ferrari\n",
            "17\n",
            "Seu primeiro nome tem 5 letras\n",
            "luigi\n"
          ]
        }
      ]
    },
    {
      "cell_type": "code",
      "source": [
        "#23\n",
        "\n",
        "numero = int(input(\"Digite um numero de 0 a 9999: \"))\n",
        "\n",
        "u = numero // 1%10\n",
        "d = numero // 10%10\n",
        "c = numero // 100%10\n",
        "m = numero // 1000%10\n",
        "\n",
        "\n",
        "print(\"Unidade: {}\".format(u))\n",
        "print(\"Dezena: {}\".format(d))\n",
        "print(\"Centena: {}\".format(c))\n",
        "print(\"Milhar: {}\".format(m))\n",
        "\n"
      ],
      "metadata": {
        "colab": {
          "base_uri": "https://localhost:8080/"
        },
        "id": "qg_lPTA_LeLs",
        "outputId": "ad12b79e-a3ba-4bcb-f2da-8126a6c548fa"
      },
      "execution_count": null,
      "outputs": [
        {
          "output_type": "stream",
          "name": "stdout",
          "text": [
            "Digite um numero de 0 a 9999: 12\n",
            "Unidade: 2\n",
            "Dezena: 1\n",
            "Centena: 0\n",
            "Milhar: 0\n"
          ]
        }
      ]
    },
    {
      "cell_type": "code",
      "source": [
        "#24\n",
        "nome = (input(\"Digite o nome da cidade: \")).strip().upper()\n",
        "\n",
        "if nome.split()[0] == \"SANTO\":\n",
        "  print(\"Começa com Santo\")\n",
        "else:\n",
        "  print(\"Não começa com Santo\")"
      ],
      "metadata": {
        "colab": {
          "base_uri": "https://localhost:8080/"
        },
        "id": "b8ev_ZbJOmHH",
        "outputId": "4adfddd3-8663-4da4-8c76-3543953a05b7"
      },
      "execution_count": null,
      "outputs": [
        {
          "output_type": "stream",
          "name": "stdout",
          "text": [
            "Digite o nome da cidade:          santo luiz\n",
            "Começa com Santo\n"
          ]
        }
      ]
    },
    {
      "cell_type": "code",
      "source": [
        "#25\n",
        "nome = (input(\"Digite seu nome completo: \")).strip().upper()\n",
        "\n",
        "if 'SILVA' in nome:\n",
        "  print(\"Tem silva!\")\n",
        "else:\n",
        "  print(\"Não tem silva!\")"
      ],
      "metadata": {
        "colab": {
          "base_uri": "https://localhost:8080/"
        },
        "id": "rdCG_mz1QAq_",
        "outputId": "0bd99bd7-514c-4579-98e9-c0f5e34e8aa8"
      },
      "execution_count": null,
      "outputs": [
        {
          "output_type": "stream",
          "name": "stdout",
          "text": [
            "Digiteseu nome completo: luigi ferrari\n",
            "Não tem silva!\n"
          ]
        }
      ]
    },
    {
      "cell_type": "code",
      "source": [
        "#26\n",
        "nome = (input(\"Digite uma frase: \")).strip().upper()\n",
        "print(\"A letra A aparece: {} vezes\".format(nome.count('A')))\n",
        "print(\"A letra A aparece a 1 vez na posicao: {}\".format(nome.find('A')+1))\n",
        "print(\"A letra A aparece a ultima vez na posicao: {}\".format(nome.rfind('A')+1))"
      ],
      "metadata": {
        "colab": {
          "base_uri": "https://localhost:8080/"
        },
        "id": "7iLINdM4Q53n",
        "outputId": "3552cea3-fdd9-43d8-8dd3-6aa744c74683"
      },
      "execution_count": null,
      "outputs": [
        {
          "output_type": "stream",
          "name": "stdout",
          "text": [
            "Digite uma frase: rafael\n",
            "A letra A aparece: 2 vezes\n",
            "A letra A aparece a 1 vez na posicao: 2\n",
            "A letra A aparece a ultima vez na posicao: 4\n"
          ]
        }
      ]
    },
    {
      "cell_type": "code",
      "source": [
        "#27\n",
        "n = str(input(\"Digite seu nome completo: \")).strip()\n",
        "\n",
        "nome = n.split()\n",
        "\n",
        "print(\"Primeiro nome: {} \".format(nome[0]))\n",
        "print(\"Primeiro nome: {} \".format(nome[len(nome)-1]))\n",
        "\n",
        "\n"
      ],
      "metadata": {
        "colab": {
          "base_uri": "https://localhost:8080/"
        },
        "id": "kYuUMCxeSyGp",
        "outputId": "044e090b-acd5-4149-e7ab-3fa201a1e631"
      },
      "execution_count": null,
      "outputs": [
        {
          "output_type": "stream",
          "name": "stdout",
          "text": [
            "Digite seu nome completo: luigi i si ferrari\n",
            "Primeiro nome: luigi \n",
            "Primeiro nome: ferrari \n"
          ]
        }
      ]
    },
    {
      "cell_type": "code",
      "source": [
        "#28\n",
        "import random\n",
        "numero = random.randint(0,5)\n",
        "n = int(input(\"Digite o numero: \"))\n",
        "\n",
        "if numero == n:\n",
        "  print('Você acertou!')\n",
        "else:\n",
        "  print('Você errou, o numero era {}!'.format(numero))"
      ],
      "metadata": {
        "colab": {
          "base_uri": "https://localhost:8080/"
        },
        "id": "fr-CWhdrPrX7",
        "outputId": "4a436e51-17a8-48dd-a98b-0cca363b3f4f"
      },
      "execution_count": null,
      "outputs": [
        {
          "output_type": "stream",
          "name": "stdout",
          "text": [
            "Digite o numero: 2\n",
            "Você errou, o numero era 4!\n"
          ]
        }
      ]
    },
    {
      "cell_type": "code",
      "source": [
        "#29\n",
        "v = int(input(\"Velocidade do carro: \"))\n",
        "\n",
        "if v > 80:\n",
        "  print('Voce foi multado em {:.2f} reais!'.format((v-80)*7))\n"
      ],
      "metadata": {
        "colab": {
          "base_uri": "https://localhost:8080/"
        },
        "id": "AnJCarZbQ97q",
        "outputId": "6214fd6c-cd08-4aca-ac7e-a0d63f2117e7"
      },
      "execution_count": null,
      "outputs": [
        {
          "output_type": "stream",
          "name": "stdout",
          "text": [
            "Velocidade do carro: 100\n",
            "Voce foi multado em 140.00 reais!\n"
          ]
        }
      ]
    },
    {
      "cell_type": "code",
      "source": [
        "#30\n",
        "v = int(input(\"Digite um valor: \"))\n",
        "\n",
        "if v % 2 == 0:\n",
        "  print(\"Par\")\n",
        "else:\n",
        "  print(\"Impar\")"
      ],
      "metadata": {
        "colab": {
          "base_uri": "https://localhost:8080/"
        },
        "id": "YlaDrYRBS4b_",
        "outputId": "69be3709-616e-4ff7-f5c2-048a042be4b6"
      },
      "execution_count": null,
      "outputs": [
        {
          "output_type": "stream",
          "name": "stdout",
          "text": [
            "Digite um valor: 53\n",
            "Impar\n"
          ]
        }
      ]
    },
    {
      "cell_type": "code",
      "source": [
        "#31\n",
        "d = int(input(\"Distancia da viagem em km: \"))\n",
        "\n",
        "if d > 200:\n",
        "  print(\"Valor da viagem será de: {:.2f}\".format(d*0.45))\n",
        "else:\n",
        "  print(\"Valor da viagem será de: {:.2f}\".format(d*0.50))"
      ],
      "metadata": {
        "colab": {
          "base_uri": "https://localhost:8080/"
        },
        "id": "p0Byl5zXTki6",
        "outputId": "acea496e-6828-458a-fc4a-61b3832f83a6"
      },
      "execution_count": null,
      "outputs": [
        {
          "output_type": "stream",
          "name": "stdout",
          "text": [
            "Distancia da viagem em km: 1000\n",
            "Valor da viagem será de: 450.00\n"
          ]
        }
      ]
    },
    {
      "cell_type": "code",
      "source": [
        "#32\n",
        "ano = int(input(\"Digite o ano: \"))\n",
        "if ano % 4 == 0 and ano % 100 != 0 or ano % 400 == 0:\n",
        "  print(\"O ano {} é bissexto\".format(ano))\n",
        "else:\n",
        "  print(\"O ano {} não é bissexto\".format(ano))"
      ],
      "metadata": {
        "colab": {
          "base_uri": "https://localhost:8080/"
        },
        "id": "E6-MKK2jUUPf",
        "outputId": "3c338ac7-5f2a-4613-a628-f6f297200881"
      },
      "execution_count": null,
      "outputs": [
        {
          "output_type": "stream",
          "name": "stdout",
          "text": [
            "Digite o ano: 1900\n",
            "O ano 1900 não é bissexto\n"
          ]
        }
      ]
    },
    {
      "cell_type": "code",
      "source": [
        "#33\n",
        "a = int(input(\"Digite o 1 numero: \"))\n",
        "b = int(input(\"Digite o 2 numero: \"))\n",
        "c = int(input(\"Digite o 3 numero: \"))\n",
        "\n",
        "maior = menor = a\n",
        "\n",
        "if b > a and b > c:\n",
        "  maior = b\n",
        "if c > a and c > b:\n",
        "  maior = c\n",
        "\n",
        "if b < a and b < c:\n",
        "  menor = b\n",
        "if c < a and c < b:\n",
        "  menor = c\n",
        "\n",
        "\n",
        "print(maior)\n",
        "print(menor)"
      ],
      "metadata": {
        "colab": {
          "base_uri": "https://localhost:8080/"
        },
        "id": "PpQLXAWJVmQe",
        "outputId": "d2c4bbb3-c082-4d47-ca13-83cf73ac9615"
      },
      "execution_count": null,
      "outputs": [
        {
          "output_type": "stream",
          "name": "stdout",
          "text": [
            "Digite o 1 numero: 8\n",
            "Digite o 2 numero:: 2\n",
            "Digite o 3 numero:: 1\n",
            "8\n",
            "1\n"
          ]
        }
      ]
    },
    {
      "cell_type": "code",
      "source": [
        "#34\n",
        "s = int(input(\"Seu salario: \"))\n",
        "\n",
        "if s > 1250:\n",
        "  aumento = (s*10)/100\n",
        "  print(\"Terá um aumento de: {:.2f} reais. Novo total: {}\".format(aumento,s+aumento))\n",
        "else:\n",
        "  aumento = (s*15)/100\n",
        "  print(\"Terá um aumento de: {:.2f} reais. Novo total: {}\".format(aumento,s+aumento))"
      ],
      "metadata": {
        "colab": {
          "base_uri": "https://localhost:8080/"
        },
        "id": "2ottC96IYe2H",
        "outputId": "264c2702-37bc-4c3d-d75e-6ce906a930d1"
      },
      "execution_count": null,
      "outputs": [
        {
          "output_type": "stream",
          "name": "stdout",
          "text": [
            "Seu salario: 900\n",
            "Terá um aumento de: 135.00 reais. Novo total: 1035.0\n"
          ]
        }
      ]
    },
    {
      "cell_type": "code",
      "source": [
        "#35\n",
        "a = float(input(\"Reta 1: \"))\n",
        "b = float(input(\"Reta 2: \"))\n",
        "c = float(input(\"Reta 3: \"))\n",
        "\n",
        "if a + b > c and a + c > b and c + b > a:\n",
        "  print(\"Pode formar um triangulo\")\n",
        "else:\n",
        "  print(\"Não pode formar um triangulo\")"
      ],
      "metadata": {
        "colab": {
          "base_uri": "https://localhost:8080/"
        },
        "id": "4QWfIYm6ZzMq",
        "outputId": "87580c36-cf99-47af-ea43-19104c2ef1f4"
      },
      "execution_count": null,
      "outputs": [
        {
          "output_type": "stream",
          "name": "stdout",
          "text": [
            "Reta 1: 9\n",
            "Reta 2: 7\n",
            "Reta 3: 8\n",
            "Pode\n"
          ]
        }
      ]
    },
    {
      "cell_type": "code",
      "source": [
        "#36\n",
        "valor = float(input(\"Valor da casa: \"))\n",
        "salario = float(input(\"Valor do salario: \"))\n",
        "anos = int(input(\"Quantos anos vai pagar: \"))\n",
        "\n",
        "meses = anos * 12\n",
        "pagarpormes = valor/meses\n",
        "\n",
        "if pagarpormes > (salario*30)/100:\n",
        "  print(\"Emprestimo Negado\")\n",
        "else:\n",
        "  print(\"Emprestimo aceito, valor por mes {:.2f} reais\".format(pagarpormes))\n"
      ],
      "metadata": {
        "id": "P-AXR1ficZsq",
        "colab": {
          "base_uri": "https://localhost:8080/"
        },
        "outputId": "df6e840e-384f-4231-c18a-eccf16fc6f81"
      },
      "execution_count": null,
      "outputs": [
        {
          "output_type": "stream",
          "name": "stdout",
          "text": [
            "Valor da casa: 80000\n",
            "Valor do salario: 10000\n",
            "Quantos anos vai pagar: 7\n",
            "Emprestimo aceito, valor por mes 952.38 reais\n"
          ]
        }
      ]
    },
    {
      "cell_type": "code",
      "source": [
        "#37\n",
        "n = int(input('Digite um número: '))\n",
        "\n",
        "e = int(input('Você deseja converter esse número para:\\n'\n",
        "      '1) binário\\n'\n",
        "      '2) octal\\n'\n",
        "      '3) hexadecimal\\n'))\n",
        "\n",
        "if e == 1:\n",
        "    print(bin(n))\n",
        "elif e == 2:\n",
        "    print(oct(n))\n",
        "elif e == 3:\n",
        "    print(hex(n))\n",
        "else:\n",
        "    print('Escolha uma opção válida.')"
      ],
      "metadata": {
        "colab": {
          "base_uri": "https://localhost:8080/"
        },
        "id": "EWwWywesFBir",
        "outputId": "00c3950e-027b-4520-cd44-36f251408b9a"
      },
      "execution_count": null,
      "outputs": [
        {
          "output_type": "stream",
          "name": "stdout",
          "text": [
            "Digite um número: 5000\n",
            "Você deseja converter esse número para:\n",
            "1) binário\n",
            "2) octal\n",
            "3) hexadecimal\n",
            "1\n",
            "0b1001110001000\n"
          ]
        }
      ]
    },
    {
      "cell_type": "code",
      "source": [
        "#38\n",
        "n1 = int(input('Digite um 1 número: '))\n",
        "n2 = int(input('Digite um 2 número: '))\n",
        "\n",
        "if n1 > n2:\n",
        "  print(\"O n1 é maior\")\n",
        "elif n2 > n1:\n",
        "  print(\"o n2 é maior\")\n",
        "else:\n",
        "  print(\"Iguais\")"
      ],
      "metadata": {
        "colab": {
          "base_uri": "https://localhost:8080/"
        },
        "id": "INF1NKfoGTUT",
        "outputId": "289eb962-fc86-48d4-ff16-6927634dcdeb"
      },
      "execution_count": null,
      "outputs": [
        {
          "output_type": "stream",
          "name": "stdout",
          "text": [
            "Digite um 1 número: 2\n",
            "Digite um 2 número: 5\n",
            "o n2 é maior\n"
          ]
        }
      ]
    },
    {
      "cell_type": "code",
      "source": [
        "#39\n",
        "from datetime import date\n",
        "anoatual = date.today().year\n",
        "\n",
        "anon = int(input('Digite seu ano de nascimento: '))\n",
        "idade = anoatual - anon\n",
        "\n",
        "if idade > 18:\n",
        "  print(\"Já era pra ter alistado\")\n",
        "elif idade == 18:\n",
        "  print(\"Alista esse ano\")\n",
        "else:\n",
        "  print(\"Ainda não é para alistar\")"
      ],
      "metadata": {
        "colab": {
          "base_uri": "https://localhost:8080/"
        },
        "id": "Z_AEYHKRG3sP",
        "outputId": "8c8771c6-a028-48fa-f8fb-e80b870b2434"
      },
      "execution_count": null,
      "outputs": [
        {
          "output_type": "stream",
          "name": "stdout",
          "text": [
            "Digite seu ano de nascimento: 2005\n",
            "Ainda não é para alistar\n"
          ]
        }
      ]
    },
    {
      "cell_type": "code",
      "source": [
        "#40\n",
        "n1 = float(input(\"nota1: \"))\n",
        "n2 = float(input(\"nota2: \"))\n",
        "media = (n1+n2)/2\n",
        "\n",
        "if media<5.0:\n",
        "  print(\"REPROVADO\")\n",
        "elif media>5.0 and media<7.0:\n",
        "  print(\"RECUPERACAO\")\n",
        "else:\n",
        "  print(\"APROVADO\")\n",
        "\n",
        "print(media)"
      ],
      "metadata": {
        "colab": {
          "base_uri": "https://localhost:8080/"
        },
        "id": "zXub66ngJrKA",
        "outputId": "1b66c631-b26d-47e6-c5ba-2ec261ddfa32"
      },
      "execution_count": null,
      "outputs": [
        {
          "output_type": "stream",
          "name": "stdout",
          "text": [
            "nota1: 2\n",
            "nota2: 2\n",
            "REPROVADO\n",
            "2.0\n"
          ]
        }
      ]
    },
    {
      "cell_type": "code",
      "source": [
        "#41\n",
        "from datetime import date\n",
        "anoatual = date.today().year\n",
        "\n",
        "anon = int(input('Digite seu ano de nascimento: '))\n",
        "idade = anoatual - anon\n",
        "\n",
        "if idade <= 9:\n",
        "  print(\"MIRIM\")\n",
        "elif idade <= 14:\n",
        "  print(\"INFANTIL\")\n",
        "elif idade <= 19:\n",
        "  print(\"JUNIOR\")\n",
        "elif idade <= 20:\n",
        "  print(\"SENIOR\")\n",
        "else:\n",
        "  print(\"MASTER\")\n",
        "\n",
        "print(idade)"
      ],
      "metadata": {
        "colab": {
          "base_uri": "https://localhost:8080/"
        },
        "id": "2KAa5dueKRxX",
        "outputId": "485e9db6-9237-4128-ecf5-c3b45052edb8"
      },
      "execution_count": null,
      "outputs": [
        {
          "output_type": "stream",
          "name": "stdout",
          "text": [
            "Digite seu ano de nascimento: 2001\n",
            "MASTER\n",
            "21\n"
          ]
        }
      ]
    },
    {
      "cell_type": "code",
      "source": [
        "#42\n",
        "a = float(input(\"Reta 1: \"))\n",
        "b = float(input(\"Reta 2: \"))\n",
        "c = float(input(\"Reta 3: \"))\n",
        "\n",
        "if a + b > c and a + c > b and c + b > a:\n",
        "  print(\"Pode formar um triangulo\")\n",
        "  if a==b==c:\n",
        "    print(\"Triangulo equilátero\")\n",
        "  elif a !=b != c != a:\n",
        "    print(\"Triangulo escaleno\")\n",
        "  else:\n",
        "    print(\"Triangulo isósceles\")\n",
        "else:\n",
        "  print(\"Não pode formar um triangulo\")"
      ],
      "metadata": {
        "colab": {
          "base_uri": "https://localhost:8080/"
        },
        "id": "ULUu-fPH4eo-",
        "outputId": "74e9ae56-642f-4e6a-dab7-f10ed716d305"
      },
      "execution_count": null,
      "outputs": [
        {
          "output_type": "stream",
          "name": "stdout",
          "text": [
            "Reta 1: 1\n",
            "Reta 2: 7\n",
            "Reta 3: 6\n",
            "Não pode formar um triangulo\n"
          ]
        }
      ]
    },
    {
      "cell_type": "code",
      "source": [
        "#43\n",
        "peso = float(input(\"Digite seu peso: \"))\n",
        "altura = float(input(\"Digite sua altura: \"))\n",
        "imc = peso/(altura**2)\n",
        "\n",
        "if imc < 18.5:\n",
        "  print(\"Abaixo do peso\")\n",
        "elif imc >= 18.5 and imc <= 25:\n",
        "  print(\"Peso ideal\")\n",
        "elif imc >= 25 and imc <= 30:\n",
        "  print(\"Sobrepeso\")\n",
        "elif imc >= 30 and imc <= 40:\n",
        "  print(\"Obesidade\")\n",
        "else:\n",
        "  print(\"Obesidade mórbida\")\n",
        "\n",
        "print(\"Seu IMC é de: {:.1f}\".format(imc))"
      ],
      "metadata": {
        "colab": {
          "base_uri": "https://localhost:8080/"
        },
        "id": "ACE2jtVL6-sJ",
        "outputId": "3183d7a3-d849-4b3e-8633-4fec4fbe74f3"
      },
      "execution_count": null,
      "outputs": [
        {
          "output_type": "stream",
          "name": "stdout",
          "text": [
            "Digite seu peso: 87\n",
            "Digite sua altura: 1.97\n",
            "Peso ideal\n",
            "Seu IMC é de: 22.4\n"
          ]
        }
      ]
    },
    {
      "cell_type": "code",
      "source": [
        "#44\n",
        "valor = float(input(\"Valor a ser pago no produto: \"))\n",
        "\n",
        "forma = int(input('Forma de pagamento:\\n'\n",
        "      '1) A vista no dinheiro - 10% desconto\\n'\n",
        "      '2) A vista no cartao - 5% desconto \\n'\n",
        "      '3) 2x cartão - Preco normal\\n'\n",
        "      '4) 3x cartão - 20% juros\\n'\n",
        "      'Opção: '))\n",
        "\n",
        "desconto10= valor*10/100\n",
        "opcao1= valor - desconto10\n",
        "\n",
        "desconto5= valor*5/100\n",
        "opcao2=valor - desconto5\n",
        "\n",
        "juros20= valor*20/100\n",
        "opcao4 =valor + juros20\n",
        "\n",
        "if forma == 1:\n",
        "  print(opcao1)\n",
        "elif forma == 2:\n",
        "  print(opcao2)\n",
        "elif forma == 3:\n",
        "  print(valor)\n",
        "elif forma == 4:\n",
        "  print(opcao4)"
      ],
      "metadata": {
        "colab": {
          "base_uri": "https://localhost:8080/"
        },
        "id": "pMrIK675_5C5",
        "outputId": "4b2cac6e-5fca-4ce4-b042-c427b0e0d9bc"
      },
      "execution_count": null,
      "outputs": [
        {
          "output_type": "stream",
          "name": "stdout",
          "text": [
            "Valor a ser pago no produto: 100\n",
            "Forma de pagamento:\n",
            "1) A vista no dinheiro - 10% desconto\n",
            "2) A vista no cartao - 5% desconto \n",
            "3) 2x cartão - Preco normal\n",
            "4) 3x cartão - 20% juros\n",
            "Opção: 4\n",
            "120.0\n"
          ]
        }
      ]
    },
    {
      "cell_type": "code",
      "source": [
        "#45\n",
        "import random\n",
        "opcao = int(input(\n",
        "      '1) Pedra\\n'\n",
        "      '2) Papel \\n'\n",
        "      '3) Tesoura\\n'\n",
        "      'Opção: '))\n",
        "\n",
        "\n",
        "lista = [1, 2, 3]\n",
        "\n",
        "computador = random.choice(lista)\n",
        "\n",
        "if computador == 1:\n",
        "  print(\"O computador jogou pedra\")\n",
        "elif computador == 2:\n",
        "  print(\"O computador jogou papel\")\n",
        "else:\n",
        "  print(\"O computador jogou tesoura\")\n",
        "\n",
        "if computador == opcao:\n",
        "  print(\"Empate\")\n",
        "elif computador == 2 and opcao == 1:\n",
        "  print(\"O computador venceu\")\n",
        "elif computador == 3 and opcao == 1:\n",
        "  print(\"Você venceu\")\n",
        "elif computador == 1 and opcao == 2:\n",
        "  print(\"Você venceu\")\n",
        "elif computador == 3 and opcao == 2:\n",
        "  print(\"Você perdeu\")\n",
        "elif computador == 1 and opcao == 3:\n",
        "  print(\"Você perdeu\")\n",
        "elif computador == 2 and opcao == 3:\n",
        "  print(\"Você ganhou\")\n",
        "else:\n",
        "  print(\"Jogada invalida\")\n",
        "\n",
        "\n",
        "\n"
      ],
      "metadata": {
        "colab": {
          "base_uri": "https://localhost:8080/"
        },
        "id": "GBCkp6hvClF3",
        "outputId": "9888e981-a1bb-4a0a-8fad-dd50a3cafc62"
      },
      "execution_count": null,
      "outputs": [
        {
          "output_type": "stream",
          "name": "stdout",
          "text": [
            "1) Pedra\n",
            "2) Papel \n",
            "3) Tesoura\n",
            "Opção: 5\n",
            "O computador jogou tesoura\n",
            "Jogada invalida\n"
          ]
        }
      ]
    },
    {
      "cell_type": "code",
      "source": [
        "#46\n",
        "import time\n",
        "\n",
        "for n in range (10, 0, -1):\n",
        "  print(n)\n",
        "  time.sleep(1)\n",
        "print(\"Fim\")"
      ],
      "metadata": {
        "colab": {
          "base_uri": "https://localhost:8080/"
        },
        "id": "t6nvQfmVHQPY",
        "outputId": "25225c3d-d22e-4d38-e847-77e9ffbfbabb"
      },
      "execution_count": null,
      "outputs": [
        {
          "output_type": "stream",
          "name": "stdout",
          "text": [
            "10\n",
            "9\n",
            "8\n",
            "7\n",
            "6\n",
            "5\n",
            "4\n",
            "3\n",
            "2\n",
            "1\n"
          ]
        }
      ]
    },
    {
      "cell_type": "code",
      "source": [
        "#47\n",
        "for n in range (0,50,2):\n",
        "  print(n)"
      ],
      "metadata": {
        "colab": {
          "base_uri": "https://localhost:8080/"
        },
        "id": "leFbr6nEIPgU",
        "outputId": "c09b8ae4-c94c-496e-9ecc-a4f9448fad6e"
      },
      "execution_count": null,
      "outputs": [
        {
          "output_type": "stream",
          "name": "stdout",
          "text": [
            "0\n",
            "2\n",
            "4\n",
            "6\n",
            "8\n",
            "10\n",
            "12\n",
            "14\n",
            "16\n",
            "18\n",
            "20\n",
            "22\n",
            "24\n",
            "26\n",
            "28\n",
            "30\n",
            "32\n",
            "34\n",
            "36\n",
            "38\n",
            "40\n",
            "42\n",
            "44\n",
            "46\n",
            "48\n"
          ]
        }
      ]
    },
    {
      "cell_type": "code",
      "source": [
        "#48\n",
        "soma = 0\n",
        "for n in range (0,501,3):\n",
        "  if n%2!=0:\n",
        "    soma = soma+n\n",
        "print(soma)"
      ],
      "metadata": {
        "colab": {
          "base_uri": "https://localhost:8080/"
        },
        "id": "mOhmBeAsIXpi",
        "outputId": "592faac9-0e87-4cdf-8229-e4dd1ec08f67"
      },
      "execution_count": null,
      "outputs": [
        {
          "output_type": "stream",
          "name": "stdout",
          "text": [
            "20667\n"
          ]
        }
      ]
    },
    {
      "cell_type": "code",
      "source": [
        "#49\n",
        "num = int(input(\"Digite um valor para ver sua tabuada: \"))\n",
        "for n in range(0,11):\n",
        "  resultado = num * n\n",
        "  print(\"{} X {:2} = {}\".format(num,n,resultado))"
      ],
      "metadata": {
        "id": "5ClhJpNbJvJP"
      },
      "execution_count": null,
      "outputs": []
    },
    {
      "cell_type": "code",
      "source": [
        "#50\n",
        "soma = 0\n",
        "for n in range(6):\n",
        "  numeros = int(input(\"Digite 6 numeros para somar somente os pares: \"))\n",
        "  if numeros%2==0:\n",
        "    soma+=numeros\n",
        "print(soma)\n"
      ],
      "metadata": {
        "colab": {
          "base_uri": "https://localhost:8080/"
        },
        "id": "gs2JMKPpJzW-",
        "outputId": "a3e4ea61-4cc9-4808-8a7b-43cd9d52de94"
      },
      "execution_count": null,
      "outputs": [
        {
          "output_type": "stream",
          "name": "stdout",
          "text": [
            "Digite 6 numeros para somar somente os pares: 1\n",
            "Digite 6 numeros para somar somente os pares: 1\n",
            "Digite 6 numeros para somar somente os pares: 1\n",
            "Digite 6 numeros para somar somente os pares: 1\n",
            "Digite 6 numeros para somar somente os pares: 1\n",
            "Digite 6 numeros para somar somente os pares: 1\n",
            "0\n"
          ]
        }
      ]
    },
    {
      "cell_type": "code",
      "source": [
        "#51\n",
        "a1 = int(input('Digite o primeiro termo da P.A.: '))\n",
        "r = int(input('Digite a razão da P.A.: '))\n",
        "n = 0\n",
        "for c in range (1, 11):\n",
        "    n += 1\n",
        "    print(a1 + (n - 1) * r)"
      ],
      "metadata": {
        "id": "mA567a3-Kshj",
        "colab": {
          "base_uri": "https://localhost:8080/"
        },
        "outputId": "883c8ea7-eb88-4c54-900d-7349d0296785"
      },
      "execution_count": null,
      "outputs": [
        {
          "output_type": "stream",
          "name": "stdout",
          "text": [
            "Digite o primeiro termo da P.A.: 0\n",
            "Digite a razão da P.A.: 2\n",
            "0\n",
            "2\n",
            "4\n",
            "6\n",
            "8\n",
            "10\n",
            "12\n",
            "14\n",
            "16\n",
            "18\n"
          ]
        }
      ]
    },
    {
      "cell_type": "code",
      "source": [
        "#52\n",
        "cont=0\n",
        "n = int(input('Digite um numero: '))\n",
        "for i in range(1,n+1):\n",
        "  if n%i==0:\n",
        "    cont+=1\n",
        "\n",
        "if cont == 2:\n",
        "  print(\"É primo\")\n",
        "else:\n",
        "  print(\"Não é primo\")"
      ],
      "metadata": {
        "colab": {
          "base_uri": "https://localhost:8080/"
        },
        "id": "mPRVlyv3pztD",
        "outputId": "2879db29-9d18-4ea3-91f8-fcb2462877c5"
      },
      "execution_count": null,
      "outputs": [
        {
          "output_type": "stream",
          "name": "stdout",
          "text": [
            "Digite um numero: 11\n",
            "É primo\n"
          ]
        }
      ]
    },
    {
      "cell_type": "code",
      "source": [
        "#53\n",
        "frase = str(input('Digite uma frase: ')).strip().upper()\n",
        "palavras = frase.split()\n",
        "junto = ''.join(palavras)\n",
        "inverso = ''\n",
        "for letra in range(len(junto) -1, -1, -1):\n",
        "  inverso+= junto[letra]\n",
        "\n",
        "if junto == inverso:\n",
        "  print(\"É palíndromo\")\n",
        "else:\n",
        "  print(\"Não é palíndromo\")"
      ],
      "metadata": {
        "colab": {
          "base_uri": "https://localhost:8080/"
        },
        "id": "qC_SXsXJr91U",
        "outputId": "b49280db-1e06-40eb-cd74-46bc205e435d"
      },
      "execution_count": null,
      "outputs": [
        {
          "output_type": "stream",
          "name": "stdout",
          "text": [
            "Digite uma frase: araras\n",
            "Não é palíndromo\n"
          ]
        }
      ]
    },
    {
      "cell_type": "code",
      "source": [
        "#54\n",
        "from datetime import date\n",
        "anoatual = date.today().year\n",
        "contmaior = 0\n",
        "contmenor = 0\n",
        "\n",
        "for pessoas in range(7):\n",
        "  anon = int(input('Digite seu ano de nascimento: '))\n",
        "  idade = anoatual - anon\n",
        "  if idade >= 21:\n",
        "    contmaior+=1\n",
        "  else:\n",
        "    contmenor+=1\n",
        "\n",
        "print(\"Das 7 pessoas {} são maiores de idade e {} são menores de idade\".format(contmaior,contmenor))"
      ],
      "metadata": {
        "id": "cCHQyXGLusaW",
        "colab": {
          "base_uri": "https://localhost:8080/"
        },
        "outputId": "7d1c7d5f-cc7a-48cb-fb34-967e96c9f1e9"
      },
      "execution_count": null,
      "outputs": [
        {
          "output_type": "stream",
          "name": "stdout",
          "text": [
            "Digite seu ano de nascimento: 2000\n",
            "Digite seu ano de nascimento: 2001\n",
            "Digite seu ano de nascimento: 2002\n",
            "Digite seu ano de nascimento: 2003\n",
            "Digite seu ano de nascimento: 2004\n",
            "Digite seu ano de nascimento: 2005\n",
            "Digite seu ano de nascimento: 2006\n",
            "Das 7 pessoas 5 são maiores de idade e 2 são menores de idade\n"
          ]
        }
      ]
    },
    {
      "cell_type": "code",
      "source": [
        "#55\n",
        "for pessoas in range(5):\n",
        "  peso = float(input('Digite o peso da {} pessoa: '.format(pessoas+1)))\n",
        "  if pessoas == 1:\n",
        "    maior = menor = peso\n",
        "  if peso > maior:\n",
        "    maior = peso\n",
        "  elif peso < menor:\n",
        "    menor = peso\n",
        "\n",
        "print(\"Maior peso: {} e menor peso: {}\".format(maior,menor))\n"
      ],
      "metadata": {
        "colab": {
          "base_uri": "https://localhost:8080/"
        },
        "id": "jEnCAf8NRMHP",
        "outputId": "03325e85-072b-4d2d-db48-f68b8fb0da03"
      },
      "execution_count": null,
      "outputs": [
        {
          "output_type": "stream",
          "name": "stdout",
          "text": [
            "Digite o peso da 1 pessoa: 58\n",
            "Digite o peso da 2 pessoa: 60\n",
            "Digite o peso da 3 pessoa: 59\n",
            "Digite o peso da 4 pessoa: 100\n",
            "Digite o peso da 5 pessoa: 30\n",
            "Maior peso: 100.0 e menor peso: 30.0\n"
          ]
        }
      ]
    },
    {
      "cell_type": "code",
      "source": [
        "#56\n",
        "total = 0\n",
        "mediaidade = 0\n",
        "nomevelho = ''\n",
        "countmulher20 = 0\n",
        "\n",
        "\n",
        "for pessoas in range(1,5):\n",
        "  print(\"----- {}ª PESSOA -----\".format(pessoas))\n",
        "  nome = str(input('Nome: '))\n",
        "  idade = int(input('Idade: '))\n",
        "  sexo = str(input('Sexo: ')).upper().strip()\n",
        "\n",
        "  total+=idade\n",
        "\n",
        "  if pessoas == 1 and sexo in \"Mm\":\n",
        "    maior = idade\n",
        "    nomevelho = nome\n",
        "    if sexo in \"Mm\" and idade > maior:\n",
        "      nomevelho = nome\n",
        "\n",
        "  if sexo == \"F\":\n",
        "    if idade < 20:\n",
        "      countmulher20+=1 \n",
        "\n",
        "\n",
        "\n",
        "\n",
        "mediaidade = total/4\n",
        "print(\"A media de idade é de: {}\".format(mediaidade))\n",
        "print(\"O nome do mais velho é de: {}\".format(nomevelho))\n",
        "print(\"Tem {} mulheres com menos de 20 anos\".format(countmulher20))"
      ],
      "metadata": {
        "colab": {
          "base_uri": "https://localhost:8080/"
        },
        "id": "dPm4F41DSkiQ",
        "outputId": "40bf46a4-2434-4d6f-b554-a3d4778620a8"
      },
      "execution_count": null,
      "outputs": [
        {
          "output_type": "stream",
          "name": "stdout",
          "text": [
            "----- 1ª PESSOA -----\n",
            "Nome: joao\n",
            "Idade: 22\n",
            "Sexo: m\n",
            "----- 2ª PESSOA -----\n",
            "Nome: maria\n",
            "Idade: 99\n",
            "Sexo: f\n",
            "----- 3ª PESSOA -----\n",
            "Nome: pedro\n",
            "Idade: 12\n",
            "Sexo: m\n",
            "----- 4ª PESSOA -----\n",
            "Nome: claudia\n",
            "Idade: 85\n",
            "Sexo: f\n",
            "A media de idade é de: 54.5\n",
            "O nome do mais velho é de: joao\n",
            "Tem 0 mulheres com menos de 20 anos\n"
          ]
        }
      ]
    },
    {
      "cell_type": "code",
      "source": [
        "#57\n",
        "valor = str(input(\"Digite seu sexo [M,F]: \")).strip().upper()\n",
        "while valor not in \"MF\":\n",
        "  print(\"Insira um valor valido!\")\n",
        "  valor = str(input(\"Digite seu sexo [M,F]: \")).strip().upper()\n",
        "\n",
        "print(\"Seu sexo é: {}\".format(valor))"
      ],
      "metadata": {
        "colab": {
          "base_uri": "https://localhost:8080/"
        },
        "id": "1FI3g9WCXu8a",
        "outputId": "988d53dc-d8b4-45f8-8775-7dea21453110"
      },
      "execution_count": null,
      "outputs": [
        {
          "output_type": "stream",
          "name": "stdout",
          "text": [
            "Digite seu sexo [M,F]: a\n",
            "Insira um valor valido!\n",
            "Digite seu sexo [M,F]: t\n",
            "Insira um valor valido!\n",
            "Digite seu sexo [M,F]: n\n",
            "Insira um valor valido!\n",
            "Digite seu sexo [M,F]: m\n",
            "Seu sexo é: M\n"
          ]
        }
      ]
    },
    {
      "cell_type": "code",
      "source": [
        "#58\n",
        "import random\n",
        "numero = random.randint(0,10)\n",
        "n = int(input(\"Digite o numero: \"))\n",
        "cont = 1\n",
        "while n != numero:\n",
        "  n = int(input(\"Errou! Tente novamente!\\nDigite outro número: \"))\n",
        "  cont+=1\n",
        "print('Você acertou o numero! Demorou {} vezes!'.format(cont))"
      ],
      "metadata": {
        "colab": {
          "base_uri": "https://localhost:8080/"
        },
        "id": "ujdqYz1ffgfh",
        "outputId": "31ea131f-d868-450c-ee56-9d1af8eb3539"
      },
      "execution_count": null,
      "outputs": [
        {
          "output_type": "stream",
          "name": "stdout",
          "text": [
            "Digite o numero: 5\n",
            "Errou! Tente novamente!\n",
            "Digite outro número: 2\n",
            "Errou! Tente novamente!\n",
            "Digite outro número: 8\n",
            "Errou! Tente novamente!\n",
            "Digite outro número: 9\n",
            "Você acertou o numero! Demorou 4 vezes!\n"
          ]
        }
      ]
    },
    {
      "cell_type": "code",
      "source": [
        "#59\n",
        "n1 = int(input(\"Digite o 1 numero: \"))\n",
        "n2 = int(input(\"Digite o 2 numero: \"))\n",
        "menu = 0\n",
        "while menu != 5:\n",
        "  menu = int(input(\"[1] Soma\\n[2] Multiplicar\\n[3] Maior\\n[4] Novos número\\n[5] Sair do programa\\n Opção: \"))\n",
        "\n",
        "  if menu == 1:\n",
        "    print(\"{} + {} = {}\".format(n1,n2,n1+n2))\n",
        "  if menu == 2:\n",
        "    print(\"{} + {} = {}\".format(n1,n2,n1*n2))\n",
        "  if menu == 3:\n",
        "    if n1>n2:\n",
        "      maior = n1\n",
        "    else:\n",
        "      maior = n2\n",
        "    print(\"O maior é {}\".format(maior))\n",
        "  if menu == 4:\n",
        "    n1 = int(input(\"Digite o 1 numero: \"))\n",
        "    n2 = int(input(\"Digite o 2 numero: \"))\n",
        "\n",
        "print(\"Fim!\")"
      ],
      "metadata": {
        "colab": {
          "base_uri": "https://localhost:8080/"
        },
        "id": "A5awiQWagTxC",
        "outputId": "7c4ec5a2-d675-4e5e-fcff-7eaa4dcf1743"
      },
      "execution_count": null,
      "outputs": [
        {
          "output_type": "stream",
          "name": "stdout",
          "text": [
            "Digite o 1 numero: 5\n",
            "Digite o 2 numero: 5\n",
            "[1] Soma\n",
            "[2] Multiplicar\n",
            "[3] Maior\n",
            "[4] Novos número\n",
            "[5] Sair do programa\n",
            " Opção: 5\n",
            "Fim!\n"
          ]
        }
      ]
    },
    {
      "cell_type": "code",
      "source": [
        "#60\n",
        "num = int(input(\"Digite um numero: \"))\n",
        "tot = 1\n",
        "print(\"Calculando {}! = \".format(num), end='')\n",
        "while num > 0: \n",
        "  print('{}'.format(num), end='')\n",
        "  print(' x ' if num > 1 else ' = ',end='')\n",
        "  tot *= num\n",
        "  num-=1\n",
        "print(tot)\n",
        "  "
      ],
      "metadata": {
        "colab": {
          "base_uri": "https://localhost:8080/"
        },
        "id": "eCOx0o9Hio8A",
        "outputId": "bffca0e1-ec52-41d1-e4b1-6a64cabc7eab"
      },
      "execution_count": null,
      "outputs": [
        {
          "output_type": "stream",
          "name": "stdout",
          "text": [
            "Digite um numero: 5\n",
            "Calculando 5! = 5 x 4 x 3 x 2 x 1 = 120\n"
          ]
        }
      ]
    },
    {
      "cell_type": "code",
      "source": [
        "#61\n",
        "primeiro = int(input('Digite o primeiro termo da P.A.: '))\n",
        "r = int(input('Digite a razão da P.A.: '))\n",
        "cont=1\n",
        "termo=primeiro\n",
        "\n",
        "while cont <= 10:\n",
        "    print(termo)\n",
        "    termo+=r\n",
        "    cont+=1\n",
        "    "
      ],
      "metadata": {
        "id": "vKg1j3uglmu1",
        "colab": {
          "base_uri": "https://localhost:8080/"
        },
        "outputId": "2407030b-81e4-45bf-f1b2-a85f8ddf00fe"
      },
      "execution_count": null,
      "outputs": [
        {
          "output_type": "stream",
          "name": "stdout",
          "text": [
            "Digite o primeiro termo da P.A.: 0\n",
            "Digite a razão da P.A.: 5\n",
            "0\n",
            "5\n",
            "10\n",
            "15\n",
            "20\n",
            "25\n",
            "30\n",
            "35\n",
            "40\n",
            "45\n"
          ]
        }
      ]
    },
    {
      "cell_type": "code",
      "source": [
        "#62\n",
        "primeiro = int(input('Digite o primeiro termo da P.A.: '))\n",
        "r = int(input('Digite a razão da P.A.: '))\n",
        "cont=1\n",
        "termo=primeiro\n",
        "\n",
        "resposta = ''\n",
        "numero = 10\n",
        "\n",
        "\n",
        "while resposta != 0:\n",
        "  while cont <= numero:\n",
        "    print(termo)\n",
        "    termo+=r\n",
        "    cont+=1\n",
        "    \n",
        "  numero = int(input('Você quer mostrar mais qts numeros: '))\n",
        "  resposta = numero\n",
        "  numero = numero + (cont -1)\n",
        "\n",
        "print('Fim')"
      ],
      "metadata": {
        "colab": {
          "base_uri": "https://localhost:8080/"
        },
        "id": "GZayI7H7_EM0",
        "outputId": "9dfa49d6-2cbd-4800-9665-2b5518663d9e"
      },
      "execution_count": null,
      "outputs": [
        {
          "output_type": "stream",
          "name": "stdout",
          "text": [
            "Digite o primeiro termo da P.A.: 0\n",
            "Digite a razão da P.A.: 2\n",
            "0\n",
            "2\n",
            "4\n",
            "6\n",
            "8\n",
            "10\n",
            "12\n",
            "14\n",
            "16\n",
            "18\n",
            "Você quer mostrar mais qts numeros: 5\n",
            "20\n",
            "22\n",
            "24\n",
            "26\n",
            "28\n",
            "Você quer mostrar mais qts numeros: 0\n",
            "Fim\n"
          ]
        }
      ]
    },
    {
      "cell_type": "code",
      "source": [
        "#63\n",
        "n = int(input('Digie um número inteiro: '))\n",
        "t1 = 0\n",
        "t2 = 1\n",
        "cont = 3\n",
        "print(t1)\n",
        "print(t2)\n",
        "while cont <= n:\n",
        "    t3 = t1 + t2\n",
        "    print(t3)\n",
        "    t1 = t2\n",
        "    t2 = t3\n",
        "    cont += 1"
      ],
      "metadata": {
        "colab": {
          "base_uri": "https://localhost:8080/"
        },
        "id": "WH4JuUgpHJ1c",
        "outputId": "967201ac-cead-472d-deab-229edf42d3c5"
      },
      "execution_count": null,
      "outputs": [
        {
          "output_type": "stream",
          "name": "stdout",
          "text": [
            "Digie um número inteiro: 5\n",
            "0\n",
            "1\n",
            "1\n",
            "2\n",
            "3\n"
          ]
        }
      ]
    },
    {
      "cell_type": "code",
      "source": [
        "#64\n",
        "resp = 0\n",
        "qtdnum = 0\n",
        "soma = 0\n",
        "\n",
        "while resp != 999:\n",
        "  resp = int(input(\"Digite o numero [999] para terminar: \"))\n",
        "  if resp != 999:\n",
        "    qtdnum+=1\n",
        "    soma+=resp\n",
        "\n",
        "print(\"{} numeros foram digitados\". format(qtdnum))\n",
        "print(\"A soma foi de: {}\". format(soma))\n",
        "print(\"Fim\")"
      ],
      "metadata": {
        "colab": {
          "base_uri": "https://localhost:8080/"
        },
        "id": "fRis3DERIrhN",
        "outputId": "76eb1033-dff8-44f5-8b9f-9461488cabe3"
      },
      "execution_count": null,
      "outputs": [
        {
          "output_type": "stream",
          "name": "stdout",
          "text": [
            "Digite o numero: 3\n",
            "Digite o numero: 3\n",
            "Digite o numero: 3\n",
            "Digite o numero: 999\n",
            "3 numero foram digitados\n",
            "A soma foi de: 9\n",
            "Fim\n"
          ]
        }
      ]
    },
    {
      "cell_type": "code",
      "source": [
        "#65\n",
        "resp = 0\n",
        "qtdnum = 0\n",
        "soma = 0\n",
        "resp = ''\n",
        "\n",
        "while resp in 'Ss':\n",
        "  numero = int(input(\"Digite o numero: \"))\n",
        "  qtdnum+=1\n",
        "  if qtdnum == 1:\n",
        "    maior = menor = numero\n",
        "  else:\n",
        "    if numero > maior:\n",
        "      maior = numero\n",
        "    elif numero < menor:\n",
        "      menor = numero\n",
        "\n",
        "\n",
        "\n",
        "  soma+=numero\n",
        "  resp = str(input(\"Deseja continuar [S/N]: \"))\n",
        "\n",
        "\n",
        "media = soma/qtdnum\n",
        "print(\"Maior: {}\\nMenor: {}\". format(maior,menor))\n",
        "print(\"A media de todos os valores foi de: {}\". format(media))\n",
        "print(\"Fim\")"
      ],
      "metadata": {
        "colab": {
          "base_uri": "https://localhost:8080/"
        },
        "id": "yun_tA94JvXV",
        "outputId": "c9e56d98-e858-4547-c65b-04a3e4e9726e"
      },
      "execution_count": null,
      "outputs": [
        {
          "output_type": "stream",
          "name": "stdout",
          "text": [
            "Digite o numero: 4\n",
            "Deseja continuar [S/N]: s\n",
            "Digite o numero: 2\n",
            "Deseja continuar [S/N]: s\n",
            "Digite o numero: 8\n",
            "Deseja continuar [S/N]: s\n",
            "Digite o numero: 9\n",
            "Deseja continuar [S/N]: n\n",
            "Maior: 9\n",
            "Menor: 2\n",
            "A media de todos os valores foi de: 5.75\n",
            "Fim\n"
          ]
        }
      ]
    },
    {
      "cell_type": "code",
      "source": [
        "#66\n",
        "resp = 0\n",
        "qtdnum = 0\n",
        "soma = 0\n",
        "\n",
        "while True:\n",
        "  resp = int(input(\"Digite o numero [999] para terminar: \"))\n",
        "  if resp == 999:\n",
        "    break\n",
        "  qtdnum+=1\n",
        "  soma+=resp\n",
        "\n",
        "\n",
        "print(\"A qtd de numeros foi de: {}\". format(qtdnum))\n",
        "print(\"A soma foi de: {}\". format(soma))\n",
        "print(\"Fim\")"
      ],
      "metadata": {
        "colab": {
          "base_uri": "https://localhost:8080/"
        },
        "id": "9T7yY6zQMpk8",
        "outputId": "b0a047cb-a319-484f-8b7e-0da83cc01746"
      },
      "execution_count": null,
      "outputs": [
        {
          "output_type": "stream",
          "name": "stdout",
          "text": [
            "Digite o numero [999] para terminar: 5\n",
            "Digite o numero [999] para terminar: 5\n",
            "Digite o numero [999] para terminar: 2\n",
            "Digite o numero [999] para terminar: 999\n",
            "A qtd de numeros foi de: 3\n",
            "A soma foi de: 12\n",
            "Fim\n"
          ]
        }
      ]
    },
    {
      "cell_type": "code",
      "source": [
        "#67\n",
        "valor = int(input(\"Quer ver a tabuada de qual valor? \"))\n",
        "mult = 1\n",
        "\n",
        "while True:\n",
        "  if(valor < 0):\n",
        "    break\n",
        "  while mult < 10:\n",
        "    tot = valor*mult\n",
        "    print(\"{} X {} = {}\".format(valor,mult,tot))\n",
        "    mult+=1\n",
        "  \n",
        "  valor = int(input(\"Quer ver a tabuada de qual valor? \"))\n",
        "  mult=1\n",
        "\n",
        "print(\"Fim\")"
      ],
      "metadata": {
        "colab": {
          "base_uri": "https://localhost:8080/"
        },
        "id": "sOpNvviTPZeV",
        "outputId": "b2aa8f5f-8cc2-4fe7-9b45-ab80d0be9ffc"
      },
      "execution_count": null,
      "outputs": [
        {
          "output_type": "stream",
          "name": "stdout",
          "text": [
            "Quer ver a tabuada de qual valor? 5\n",
            "5 X 1 = 5\n",
            "5 X 2 = 10\n",
            "5 X 3 = 15\n",
            "5 X 4 = 20\n",
            "5 X 5 = 25\n",
            "5 X 6 = 30\n",
            "5 X 7 = 35\n",
            "5 X 8 = 40\n",
            "5 X 9 = 45\n",
            "Quer ver a tabuada de qual valor? 2\n",
            "2 X 1 = 2\n",
            "2 X 2 = 4\n",
            "2 X 3 = 6\n",
            "2 X 4 = 8\n",
            "2 X 5 = 10\n",
            "2 X 6 = 12\n",
            "2 X 7 = 14\n",
            "2 X 8 = 16\n",
            "2 X 9 = 18\n",
            "Quer ver a tabuada de qual valor? -8\n",
            "Fim\n"
          ]
        }
      ]
    },
    {
      "cell_type": "code",
      "source": [
        "#68\n",
        "import random\n",
        "\n",
        "cont = 0\n",
        "\n",
        "while True:\n",
        "  computador = random.randrange(0,9)\n",
        "  num = int(input(\"Digite o numero: \"))\n",
        "  sit = str(input(\"Par ou Impar? [P/I]: \")).upper().strip()\n",
        "\n",
        "  if sit == 'P':\n",
        "    soma=num+computador\n",
        "    if soma%2==0:\n",
        "      print('Você jogou {} e o computador jogou {}. Total de {} DEU PAR'.format(num,computador,soma))\n",
        "      print('Você VENCEUUU!')\n",
        "      print('Vamos jogar novamente...')\n",
        "      cont+=1\n",
        "    else:\n",
        "      print('Você jogou {} e o computador jogou {}. Total de {} DEU IMPAR'.format(num,computador,soma))\n",
        "      break\n",
        "\n",
        "  if sit == 'I':\n",
        "    soma=num+computador\n",
        "    if soma%2==1:\n",
        "      print('Você jogou {} e o computador jogou {}. Total de {} DEU IMPAR'.format(num,computador,soma))\n",
        "      print('Você VENCEUUU!')\n",
        "      print('Vamos jogar novamente...')\n",
        "      cont+=1\n",
        "    else:\n",
        "      print('Você jogou {} e o computador jogou {}. Total de {} DEU PAR'.format(num,computador,soma))\n",
        "      break\n",
        "\n",
        "\n",
        "print('Você PERDEU!')\n",
        "print('GAME OVER! Você venceu {} vezes.'.format(cont))"
      ],
      "metadata": {
        "colab": {
          "base_uri": "https://localhost:8080/"
        },
        "id": "e70sQS7dRIqR",
        "outputId": "c2dc142b-e34a-4d03-e4fe-7d74a9f231a5"
      },
      "execution_count": null,
      "outputs": [
        {
          "output_type": "stream",
          "name": "stdout",
          "text": [
            "Digite o numero: 6\n",
            "Par ou Impar? [P/I]: i\n",
            "Você jogou 6 e o computador jogou 7. Total de 13 DEU IMPAR\n",
            "Você VENCEUUU!\n",
            "Vamos jogar novamente...\n",
            "Digite o numero: 2\n",
            "Par ou Impar? [P/I]: p\n",
            "Você jogou 2 e o computador jogou 5. Total de 7 DEU IMPAR\n",
            "Você PERDEU!\n",
            "GAME OVER! Você venceu 1 vezes.\n"
          ]
        }
      ]
    },
    {
      "cell_type": "code",
      "source": [
        "#69\n",
        "ci = 0\n",
        "csm = 0\n",
        "csf = 0\n",
        "while True:\n",
        "    idade = int(input('Digite a idade: '))\n",
        "    sexo = str(input('Digite o sexo [m/f]: ')).strip().lower()\n",
        "    while sexo not in 'fm':\n",
        "      sexo = str(input('Digite o sexo [m/f]: ')).strip().lower()\n",
        "    if idade > 18:\n",
        "        ci += 1\n",
        "    if sexo == 'm':\n",
        "        csm += 1\n",
        "    else:\n",
        "        csf += 1\n",
        "    d = str(input('Deseja continuar a cadatrar [s/n]? '))\n",
        "    if d == 'n':\n",
        "        break\n",
        "print(f'{ci} pessoas tem mais de 18 anos.')\n",
        "print(f'{csm} pessoas são do sexo masculino.')\n",
        "print(f'{csf} pessoas são do sexo feminino.')"
      ],
      "metadata": {
        "colab": {
          "base_uri": "https://localhost:8080/"
        },
        "id": "C8S_OcXFTHia",
        "outputId": "c5dd4832-755e-4e08-86ff-b52ba8c92f4c"
      },
      "execution_count": null,
      "outputs": [
        {
          "output_type": "stream",
          "name": "stdout",
          "text": [
            "Digite a idade: 10\n",
            "Digite o sexo [m/f]: g\n",
            "Digite o sexo [m/f]: g\n",
            "Digite o sexo [m/f]: g\n",
            "Digite o sexo [m/f]: m\n",
            "Deseja continuar a cadatrar [s/n]? s\n",
            "Digite a idade: 20\n",
            "Digite o sexo [m/f]: t\n",
            "Digite o sexo [m/f]: t\n",
            "Digite o sexo [m/f]: t\n",
            "Digite o sexo [m/f]: f\n",
            "Deseja continuar a cadatrar [s/n]? n\n",
            "1 pessoas tem mais de 18 anos.\n",
            "1 pessoas são do sexo masculino.\n",
            "1 pessoas são do sexo feminino.\n"
          ]
        }
      ]
    },
    {
      "cell_type": "code",
      "source": [
        "#70\n",
        "\n",
        "total = 0\n",
        "m1000 = 0\n",
        "produtobarato = ''\n",
        "\n",
        "cont = 0\n",
        "\n",
        "while True:\n",
        "    nome = str(input('Digite o nome do produto: '))\n",
        "    preco = float(input('Digite o preço do produto: '))\n",
        "    total+=preco\n",
        "\n",
        "    if preco > 1000:\n",
        "      m1000+=1\n",
        "\n",
        "    if cont == 0:\n",
        "      menor = preco\n",
        "      produtobarato = nome\n",
        "    else:\n",
        "      if menor > preco:\n",
        "        produtobarato = nome\n",
        "    \n",
        "\n",
        "    cont+=1\n",
        "    cond = str(input('Deseja continuar? [Y/N]: ')).upper().strip()\n",
        "    while cond not in 'YN':\n",
        "      cond = str(input('Deseja continuar? [Y/N]: ')).upper().strip()\n",
        "    if cond == 'N':\n",
        "      break\n",
        "\n",
        "    \n",
        "print(f'{total} gastos na compra.')\n",
        "print(f'{m1000} produto(s) custa(m) mais que 1000.')\n",
        "print(f'{produtobarato} é o produto mais barato.')"
      ],
      "metadata": {
        "colab": {
          "base_uri": "https://localhost:8080/"
        },
        "id": "xHfKdJtuWrWc",
        "outputId": "a80c41f9-2c5c-46ef-a285-ce35e9e49db0"
      },
      "execution_count": null,
      "outputs": [
        {
          "output_type": "stream",
          "name": "stdout",
          "text": [
            "Digite o nome do produto: a\n",
            "Digite o preço do produto: 4\n",
            "Deseja continuar? [Y/N]: y\n",
            "Digite o nome do produto: b\n",
            "Digite o preço do produto: 5\n",
            "Deseja continuar? [Y/N]: y\n",
            "Digite o nome do produto: t\n",
            "Digite o preço do produto: 2000\n",
            "Deseja continuar? [Y/N]: n\n",
            "2009.0 gastos na compra.\n",
            "1 produto(s) custa(m) mais que 1000.\n",
            "a é o produto mais barato.\n"
          ]
        }
      ]
    },
    {
      "cell_type": "code",
      "source": [
        "#71\n",
        "nota50 = 0\n",
        "nota20 = 0\n",
        "nota10 = 0\n",
        "nota1 = 0\n",
        "\n",
        "\n",
        "\n",
        "preco = float(input('Digite o valor a se retirar: '))\n",
        "total = preco\n",
        "\n",
        "while True:\n",
        "  if total >= 50:\n",
        "    total-= 50\n",
        "    nota50+=1\n",
        "  elif total >= 20:\n",
        "    total-= 20\n",
        "    nota20+=1\n",
        "  elif total >= 10:\n",
        "    total-= 10\n",
        "    nota10+=1\n",
        "  elif total >= 1:\n",
        "    total-= 1\n",
        "    nota1+=1\n",
        "  else:\n",
        "    break\n",
        "  \n",
        "\n",
        "\n",
        "print('Notas de 50: {}'.format(nota50))\n",
        "print('Notas de 20: {}'.format(nota20))\n",
        "print('Notas de 10: {}'.format(nota10))\n",
        "print('Notas de 1: {}'.format(nota1))"
      ],
      "metadata": {
        "colab": {
          "base_uri": "https://localhost:8080/"
        },
        "id": "VMW3h5DzbYt2",
        "outputId": "f6dae2a4-58c2-4727-9c6c-a3538a41b1d0"
      },
      "execution_count": null,
      "outputs": [
        {
          "output_type": "stream",
          "name": "stdout",
          "text": [
            "Digite o valor a se retirar: 1234\n",
            "Notas de 50: 24\n",
            "Notas de 20: 1\n",
            "Notas de 10: 1\n",
            "Notas de 1: 4\n"
          ]
        }
      ]
    },
    {
      "cell_type": "code",
      "source": [
        "#72\n",
        "numeros = ('zero', 'um', 'dois', 'tres','quatro', 'cinco')\n",
        "\n",
        "digite = int(input('Digite um numero entre 0 e 20: '))\n",
        "while digite > 5 or digite < 0:\n",
        "  digite = int(input('Tente novamente! Digite um numero entre 0 e 20: '))\n",
        "\n",
        "print(numeros[digite])"
      ],
      "metadata": {
        "colab": {
          "base_uri": "https://localhost:8080/"
        },
        "id": "9JwSyaQJfC6r",
        "outputId": "3410165f-ed54-4c74-f2f3-a0585bc61f69"
      },
      "execution_count": null,
      "outputs": [
        {
          "output_type": "stream",
          "name": "stdout",
          "text": [
            "Digite um numero entre 0 e 20: 6\n",
            "Tente novamente! Digite um numero entre 0 e 20: 5\n",
            "cinco\n"
          ]
        }
      ]
    },
    {
      "cell_type": "code",
      "source": [
        "#73\n",
        "times = ('atletico', 'flamengo', 'palmeiras','fortaleza', 'corinthias', 'red bull', 'fluminense', 'america', 'atletico-go', 'santos')\n",
        "#5 primeiros\n",
        "print(times[:5])\n",
        "#4 ultimos\n",
        "print(times[-4:])\n",
        "#ordem alfabetica\n",
        "alfabetico = sorted(times)\n",
        "print(alfabetico)\n",
        "#qual posicao esta o atletico\n",
        "print(times.index('atletico')+1)\n",
        "\n"
      ],
      "metadata": {
        "id": "BkpHEZtXAdBO",
        "colab": {
          "base_uri": "https://localhost:8080/"
        },
        "outputId": "420e8834-33da-4836-e386-13b21a12c353"
      },
      "execution_count": null,
      "outputs": [
        {
          "output_type": "stream",
          "name": "stdout",
          "text": [
            "('atletico', 'flamengo', 'palmeiras', 'fortaleza', 'corinthias')\n",
            "('fluminense', 'america', 'atletico-go', 'santos')\n",
            "['america', 'atletico', 'atletico-go', 'corinthias', 'flamengo', 'fluminense', 'fortaleza', 'palmeiras', 'red bull', 'santos']\n",
            "1\n"
          ]
        }
      ]
    },
    {
      "cell_type": "code",
      "source": [
        "#74\n",
        "import random\n",
        "tupla = (random.randrange(0,10),random.randrange(0,10),random.randrange(0,10),random.randrange(0,10),random.randrange(0,10))\n",
        "\n",
        "\n",
        "print('Os numeros foram {},\\nMaior: {}\\nMenor: {}'.format(tupla,max(tupla),min(tupla)))"
      ],
      "metadata": {
        "colab": {
          "base_uri": "https://localhost:8080/"
        },
        "id": "B3Lq40u6FIP7",
        "outputId": "9b48b38d-ba3d-4a0e-fda1-073ed5f113a8"
      },
      "execution_count": null,
      "outputs": [
        {
          "output_type": "stream",
          "name": "stdout",
          "text": [
            "Os numeros foram (8, 9, 2, 5, 5),\n",
            "Maior: 9\n",
            "Menor: 2\n"
          ]
        }
      ]
    },
    {
      "cell_type": "code",
      "source": [
        "#75\n",
        "n1 = int(input('Digite o numero: '))\n",
        "n2 = int(input('Digite o numero: '))\n",
        "n3 = int(input('Digite o numero: '))\n",
        "n4 = int(input('Digite o numero: '))\n",
        "valor9=0\n",
        "posicao3=0\n",
        "cont=0\n",
        "tupla=(n1,n2,n3,n4)\n",
        "\n",
        "\n",
        "\n",
        "if 3 in tupla:\n",
        "  print('O valor 3 foi digitado na posição: {}'.format(tupla.index(3)+1))\n",
        "else:\n",
        "  print('O valor 3 n foi digitado')\n",
        "\n",
        "print('O valor 9 apareceu: {} vezes'.format(tupla.count(9)))\n",
        "\n",
        "for n in tupla:\n",
        "  if n % 2 == 0:\n",
        "    print((n), end=' ')"
      ],
      "metadata": {
        "colab": {
          "base_uri": "https://localhost:8080/"
        },
        "id": "sjDYWwrKHhOO",
        "outputId": "876dc143-2f28-4da4-9fe3-2dae04f038ad"
      },
      "execution_count": null,
      "outputs": [
        {
          "output_type": "stream",
          "name": "stdout",
          "text": [
            "Digite o numero: 8\n",
            "Digite o numero: 6\n",
            "Digite o numero: 2\n",
            "Digite o numero: 3\n",
            "O valor 3 foi digitado na posição: 4\n",
            "O valor 9 apareceu: 0 vezes\n",
            "8 6 2 "
          ]
        }
      ]
    },
    {
      "cell_type": "code",
      "source": [
        "#76\n",
        "lista = ('pao', 1, 'Leite', 3.50, 'Frango', 10.90)\n",
        "\n",
        "print('-' * 30)\n",
        "print(f'{\"LISTA DE PRECO\":^30}')\n",
        "print('-' * 30)\n",
        "\n",
        "\n",
        "for pos in range(0, len(lista)):\n",
        "  if pos % 2 == 0:\n",
        "    print(f'{lista[pos]:.<30}', end='')\n",
        "  else:\n",
        "    print(f'R$ {lista[pos]:>5.2f}')"
      ],
      "metadata": {
        "colab": {
          "base_uri": "https://localhost:8080/"
        },
        "id": "z7uEUCnSMLvU",
        "outputId": "3f33aa92-0a82-466b-fe50-e78cb68dcccc"
      },
      "execution_count": null,
      "outputs": [
        {
          "output_type": "stream",
          "name": "stdout",
          "text": [
            "------------------------------\n",
            "        LISTA DE PRECO        \n",
            "------------------------------\n",
            "pao...........................R$  1.00\n",
            "Leite.........................R$  3.50\n",
            "Frango........................R$ 10.90\n"
          ]
        }
      ]
    },
    {
      "cell_type": "code",
      "source": [
        "#77\n",
        "times = ('atletico', 'flamengo', 'palmeiras','fortaleza', 'corinthias', 'red bull', 'fluminense', 'america', 'atletico-go', 'santos', 'f')\n",
        "cont = 0\n",
        "for p in times:\n",
        "  print(f'\\nNa palavra {p}. Temos a letra', end='')\n",
        "  for letra in p:\n",
        "    if letra.lower() in 'aeiou':\n",
        "      print(letra, end=' ')\n",
        "    \n",
        "\n",
        "  \n",
        "  "
      ],
      "metadata": {
        "colab": {
          "base_uri": "https://localhost:8080/"
        },
        "id": "KxuQKHI6Pq22",
        "outputId": "a28a4048-a4cf-4973-b591-827976acdf05"
      },
      "execution_count": null,
      "outputs": [
        {
          "output_type": "stream",
          "name": "stdout",
          "text": [
            "\n",
            "Na palavra atletico. Temos a letraa e i o \n",
            "Na palavra flamengo. Temos a letraa e o \n",
            "Na palavra palmeiras. Temos a letraa e i a \n",
            "Na palavra fortaleza. Temos a letrao a e a \n",
            "Na palavra corinthias. Temos a letrao i i a \n",
            "Na palavra red bull. Temos a letrae u \n",
            "Na palavra fluminense. Temos a letrau i e e \n",
            "Na palavra america. Temos a letraa e i a \n",
            "Na palavra atletico-go. Temos a letraa e i o o \n",
            "Na palavra santos. Temos a letraa o \n",
            "Na palavra f. Temos a letra"
          ]
        }
      ]
    },
    {
      "cell_type": "code",
      "source": [
        "#78 del list[n]   - list.remove[nome]   - list.pop() remove o ultimo -  list.insert(valor, posicao)  - for p, v in enumerate(list) p=posicao v=valor   - b = a[:] criar copia da list\n",
        "lista = []\n",
        "maior = []\n",
        "menor = []\n",
        "\n",
        "ma=me=0\n",
        "\n",
        "\n",
        "for n in range(0,5):\n",
        "  lista.append(int(input(f'Digite o valor da posicao {n}: ')))\n",
        "  if n == 0:\n",
        "    ma=me=lista[n]\n",
        "  else:\n",
        "    if lista[n] > ma:\n",
        "      ma = lista[n]\n",
        "    if lista[n] < me:\n",
        "      me = lista[n]\n",
        "\n",
        "    \n",
        "for p,v in enumerate(lista):\n",
        "  if v == ma:\n",
        "    maior.append(p)\n",
        "  if v == me:\n",
        "    menor.append(p)\n",
        "    \n",
        "print(f'O maior valor foi: {ma} digitado na posicao {maior}')\n",
        "print(f'O menor valor foi {me} digitado na posicao {menor}')\n"
      ],
      "metadata": {
        "colab": {
          "base_uri": "https://localhost:8080/"
        },
        "id": "cZ3SxaPLiW-0",
        "outputId": "edb88e55-6562-4e77-eb46-4a32673d239e"
      },
      "execution_count": null,
      "outputs": [
        {
          "output_type": "stream",
          "name": "stdout",
          "text": [
            "Digite o valor da posicao 0: 1\n",
            "Digite o valor da posicao 1: 1\n",
            "Digite o valor da posicao 2: 5\n",
            "Digite o valor da posicao 3: 9\n",
            "Digite o valor da posicao 4: 9\n",
            "O maior valor foi: 9 digitado na posicao [3, 4]\n",
            "O menor valor foi 1 digitado na posicao [0, 1]\n"
          ]
        }
      ]
    },
    {
      "cell_type": "code",
      "source": [
        "#79\n",
        "lista = []\n",
        "\n",
        "while True:\n",
        "  valor = int(input('Digite um valor: '))\n",
        "  \n",
        "  if valor not in lista:\n",
        "    print('Valor adicionado com sucesso!')\n",
        "    lista.append(valor)\n",
        "  else:\n",
        "    print('Valor duplicado! Não vou adicionar....')\n",
        "  \n",
        "  status = str(input('Quer continuar? [S/N]: ')).strip().lower()\n",
        "\n",
        "  while status not in 'sn':\n",
        "    status = str(input('Digite um valor valido! Quer continuar? [S/N]: ')).strip().lower()\n",
        "  if status == 'n':\n",
        "      break\n",
        "\n",
        "\n",
        "print(sorted(lista))\n"
      ],
      "metadata": {
        "colab": {
          "base_uri": "https://localhost:8080/"
        },
        "id": "UlUnzIqruSMF",
        "outputId": "f1867d82-9507-42bc-ac40-2508f04b7e32"
      },
      "execution_count": null,
      "outputs": [
        {
          "output_type": "stream",
          "name": "stdout",
          "text": [
            "Digite um valor: 5\n",
            "Valor adicionado com sucesso!\n",
            "Quer continuar? [S/N]: s\n",
            "Digite um valor: 5\n",
            "Valor duplicado! Não vou adicionar....\n",
            "Quer continuar? [S/N]: s\n",
            "Digite um valor: 2\n",
            "Valor adicionado com sucesso!\n",
            "Quer continuar? [S/N]: t\n",
            "Digite um valor valido! Quer continuar? [S/N]: s\n",
            "Digite um valor: 3\n",
            "Valor adicionado com sucesso!\n",
            "Quer continuar? [S/N]: t\n",
            "Digite um valor valido! Quer continuar? [S/N]: n\n",
            "[2, 3, 5]\n"
          ]
        }
      ]
    },
    {
      "cell_type": "code",
      "source": [
        "#80\n",
        "lista = []\n",
        "\n",
        "\n",
        "for valor in range(0,5):\n",
        "  item = int(input(f'Digite um {valor} valor: '))\n",
        "  if valor == 0 or item > lista[-1]:\n",
        "    lista.append(item)\n",
        "  else:\n",
        "    pos=0\n",
        "    while pos < len(lista):\n",
        "      if item <= lista[pos]:\n",
        "        lista.insert(pos, item)\n",
        "        break\n",
        "      pos+=1 \n",
        "\n",
        "\n",
        "\n",
        "print(lista)\n"
      ],
      "metadata": {
        "colab": {
          "base_uri": "https://localhost:8080/"
        },
        "id": "GG0Q_5Ez0H14",
        "outputId": "f0bfcf7b-aec4-478a-c806-c2c98c26e76c"
      },
      "execution_count": null,
      "outputs": [
        {
          "output_type": "stream",
          "name": "stdout",
          "text": [
            "Digite um 0 valor: 2\n",
            "Digite um 1 valor: 5\n",
            "Digite um 2 valor: 3\n",
            "Digite um 3 valor: 8\n",
            "Digite um 4 valor: 6\n",
            "[2, 3, 5, 6, 8]\n"
          ]
        }
      ]
    },
    {
      "cell_type": "code",
      "source": [
        "#81\n",
        "\n",
        "lista = []\n",
        "\n",
        "\n",
        "while True:\n",
        "  valor = int(input('Digite um valor: '))\n",
        "  lista.append(valor)\n",
        "  status = str(input('Quer continuar? [S/N]: ')).strip().lower()\n",
        "\n",
        "  while status not in 'sn':\n",
        "    status = str(input('Digite um valor valido! Quer continuar? [S/N]: ')).strip().lower()\n",
        "  if status == 'n':\n",
        "      break\n",
        "\n",
        "print(len(lista))\n",
        "lista.sort(reverse=True)\n",
        "print(lista)\n",
        "\n",
        "if 5 in lista:\n",
        "  print('5 esta na lista')\n",
        "else:\n",
        "  print('5 n esta na lista')"
      ],
      "metadata": {
        "colab": {
          "base_uri": "https://localhost:8080/"
        },
        "id": "i_-sr7IW9Fg7",
        "outputId": "91cbaac2-e2d8-483e-9199-759bfba91a8e"
      },
      "execution_count": null,
      "outputs": [
        {
          "output_type": "stream",
          "name": "stdout",
          "text": [
            "Digite um valor: 1\n",
            "Quer continuar? [S/N]: n\n",
            "1\n",
            "[1]\n",
            "5 n esta na lista\n"
          ]
        }
      ]
    },
    {
      "cell_type": "code",
      "source": [
        "#82\n",
        "lista=[]\n",
        "pares=[]\n",
        "impares=[]\n",
        "\n",
        "while True:\n",
        "  lista.append(int(input('Digite um valor: ')))\n",
        "  status = str(input('Deseja continuar? [s/n]: ')).strip().lower()\n",
        "  while status not in 'sn':\n",
        "    status = str(input('Digite um valor valido! Deseja continuar? [s/n]: ')).strip().lower()\n",
        "  if 'n' in status:\n",
        "    break\n",
        "\n",
        "pos=0\n",
        "while pos < len(lista):\n",
        "  if lista[pos] % 2 == 0:\n",
        "    pares.append(lista[pos])\n",
        "  else:\n",
        "    impares.append(lista[pos])\n",
        "  pos+=1\n",
        "\n",
        "print(lista)\n",
        "print(pares)\n",
        "print(impares)"
      ],
      "metadata": {
        "colab": {
          "base_uri": "https://localhost:8080/"
        },
        "id": "IcdW86Yz_GJi",
        "outputId": "b841908b-3d6f-4eed-c1d3-3d6227034540"
      },
      "execution_count": null,
      "outputs": [
        {
          "output_type": "stream",
          "name": "stdout",
          "text": [
            "Digite um valor: 5\n",
            "Deseja continuar? [s/n]: s\n",
            "Digite um valor: 1\n",
            "Deseja continuar? [s/n]: s\n",
            "Digite um valor: 2\n",
            "Deseja continuar? [s/n]: s\n",
            "Digite um valor: 4\n",
            "Deseja continuar? [s/n]: n\n",
            "[5, 1, 2, 4]\n",
            "[2, 4]\n",
            "[5, 1]\n"
          ]
        }
      ]
    },
    {
      "cell_type": "code",
      "source": [
        "#83\n",
        "expressao=str(input('Digite sua expressao: '))\n",
        "\n",
        "\n",
        "pilha = []\n",
        "for simb in expressao:\n",
        "  if simb == '(':\n",
        "    pilha.append('(')\n",
        "  elif simb == ')':\n",
        "    if len(pilha) > 0:\n",
        "      pilha.pop()\n",
        "    else:\n",
        "      pilha.append(')')\n",
        "      break\n",
        "\n",
        "if len(pilha) == 0:\n",
        "  print('Expressao valida!')\n",
        "else:\n",
        "  print('Expressao invalida!')\n",
        "\n"
      ],
      "metadata": {
        "colab": {
          "base_uri": "https://localhost:8080/"
        },
        "id": "-gPKoH_JB-XL",
        "outputId": "c2547315-dac9-47f5-b922-216a388050a2"
      },
      "execution_count": null,
      "outputs": [
        {
          "output_type": "stream",
          "name": "stdout",
          "text": [
            "Digite sua expressao: ))(\n",
            "Expressao invalida!\n"
          ]
        }
      ]
    },
    {
      "cell_type": "code",
      "source": [
        "#84\n",
        "pessoa = []\n",
        "grupo = []\n",
        "pesada = leve = 0\n",
        "\n",
        "maispesado=[]\n",
        "maisleve=[]\n",
        "\n",
        "\n",
        "while True:\n",
        "  pessoa.append(str(input('Nome: ')))\n",
        "  pessoa.append(float(input('Peso: ')))\n",
        "\n",
        "  grupo.append(pessoa[:])\n",
        "  pessoa.clear()\n",
        "  sit = str(input('Deseja continuar? [S/N]: ')).strip().upper()\n",
        "\n",
        "  while sit not in 'SN':\n",
        "    sit = str(input('Digite um valor valido! Deseja continuar? [S/N]: ')).strip().upper()\n",
        "  \n",
        "  if sit == 'N':\n",
        "    break\n",
        "\n",
        "posnome = 0\n",
        "pospeso = 1\n",
        "for p,v in enumerate(grupo):\n",
        "  if p==0:\n",
        "    pesada = leve = grupo[p][pospeso]\n",
        "  else:\n",
        "    if leve >= grupo[p][pospeso]:\n",
        "      leve = grupo[p][pospeso]\n",
        "    elif pesada <= grupo[p][pospeso]:\n",
        "      pesada = grupo[p][pospeso]\n",
        "\n",
        "\n",
        "for p,v in enumerate(grupo):\n",
        "  if grupo[p][pospeso] == pesada:\n",
        "    maispesado.append(grupo[p][posnome])\n",
        "  elif grupo[p][pospeso] == leve:\n",
        "    maisleve.append(grupo[p][posnome])\n",
        "    \n",
        "\n",
        "print(grupo)\n",
        "print(f'{len(grupo)} pessoas foram cadastradas!')\n",
        "\n",
        "print(f'A pessoa mais pesada é: {maispesado} com {pesada}')\n",
        "print(f'A pessoa mais leve é: {maisleve} com {leve}')"
      ],
      "metadata": {
        "colab": {
          "base_uri": "https://localhost:8080/"
        },
        "id": "4bjdLkbWZCPm",
        "outputId": "adb9ba9e-dfc2-48bc-82ae-74aaa3d8993c"
      },
      "execution_count": null,
      "outputs": [
        {
          "output_type": "stream",
          "name": "stdout",
          "text": [
            "Nome: maria\n",
            "Peso: 70\n",
            "Deseja continuar? [S/N]: s\n",
            "Nome: joao\n",
            "Peso: 100\n",
            "Deseja continuar? [S/N]: s\n",
            "Nome: claudio\n",
            "Peso: 85\n",
            "Deseja continuar? [S/N]: s\n",
            "Nome: helio\n",
            "Peso: 100\n",
            "Deseja continuar? [S/N]: s\n",
            "Nome: ana\n",
            "Peso: 70\n",
            "Deseja continuar? [S/N]: s\n",
            "Nome: gustavo\n",
            "Peso: 88\n",
            "Deseja continuar? [S/N]: n\n",
            "[['maria', 70.0], ['joao', 100.0], ['claudio', 85.0], ['helio', 100.0], ['ana', 70.0], ['gustavo', 88.0]]\n",
            "6 pessoas foram cadastradas!\n",
            "A pessoa mais pesada é: ['joao', 'helio'] com 100.0\n",
            "A pessoa mais leve é: ['maria', 'ana'] com 70.0\n"
          ]
        }
      ]
    },
    {
      "cell_type": "code",
      "source": [
        "#85\n",
        "lista=[[], []]\n",
        "\n",
        "for v in range(0,7):\n",
        "  valor = int(input('Digite um valor: '))\n",
        "  if valor % 2 == 0:\n",
        "    lista[0].append(valor)\n",
        "  else:\n",
        "    lista[1].append(valor)\n",
        "\n",
        "print(f'Os pares são {sorted(lista[0])}')\n",
        "print(f'Os impares são {sorted(lista[1])}')"
      ],
      "metadata": {
        "colab": {
          "base_uri": "https://localhost:8080/"
        },
        "id": "_bWQagqMluAg",
        "outputId": "3fa4d910-b2fd-4665-9164-5c8c0e662e50"
      },
      "execution_count": null,
      "outputs": [
        {
          "output_type": "stream",
          "name": "stdout",
          "text": [
            "Digite um valor: 2\n",
            "Digite um valor: 8\n",
            "Digite um valor: 4\n",
            "Digite um valor: 7\n",
            "Digite um valor: 5\n",
            "Digite um valor: 2\n",
            "Digite um valor: 3\n",
            "Os pares são [2, 2, 4, 8]\n",
            "Os impares são [3, 5, 7]\n"
          ]
        }
      ]
    },
    {
      "cell_type": "code",
      "source": [
        "#86\n",
        "matrix = [[],[],[]]\n",
        "\n",
        "for linha in range(3):\n",
        "  for coluna in range(3):\n",
        "    valor = int(input(f'Digite um valor para [{linha},{coluna}]: ' ))\n",
        "    matrix[linha].append(valor)\n",
        "  \n",
        "for l in range(0,3):\n",
        "  for c in range(0,3):\n",
        "    print(f'[{matrix[l][c]:^5}]' , end='')\n",
        "  print()\n",
        "\n",
        "print(f'[ {matrix[0][0]} ] [ {matrix[0][1]} ] [ {matrix[0][2]} ]')\n",
        "print(f'[ {matrix[1][0]} ] [ {matrix[1][1]} ] [ {matrix[1][2]} ]')\n",
        "print(f'[ {matrix[2][0]} ] [ {matrix[2][1]} ] [ {matrix[2][2]} ]')\n",
        "\n",
        "\n",
        "\n"
      ],
      "metadata": {
        "colab": {
          "base_uri": "https://localhost:8080/"
        },
        "id": "-ssMG8ovo8FV",
        "outputId": "cda5cf7b-76dd-472b-d46e-dba57e346221"
      },
      "execution_count": null,
      "outputs": [
        {
          "output_type": "stream",
          "name": "stdout",
          "text": [
            "Digite um valor para [0,0]: 1\n",
            "Digite um valor para [0,1]: 2\n",
            "Digite um valor para [0,2]: 3\n",
            "Digite um valor para [1,0]: 4\n",
            "Digite um valor para [1,1]: 5\n",
            "Digite um valor para [1,2]: 6\n",
            "Digite um valor para [2,0]: 7\n",
            "Digite um valor para [2,1]: 8\n",
            "Digite um valor para [2,2]: 9\n",
            "[  1  ][  2  ][  3  ]\n",
            "[  4  ][  5  ][  6  ]\n",
            "[  7  ][  8  ][  9  ]\n",
            "[ 1 ] [ 2 ] [ 3 ]\n",
            "[ 4 ] [ 5 ] [ 6 ]\n",
            "[ 7 ] [ 8 ] [ 9 ]\n"
          ]
        }
      ]
    },
    {
      "cell_type": "code",
      "source": [
        "#87\n",
        "matrix = [[],[],[]]\n",
        "somapar=0\n",
        "soma3coluna=0\n",
        "\n",
        "for linha in range(3):\n",
        "  for coluna in range(3):\n",
        "    valor = int(input(f'Digite um valor para [{linha},{coluna}]: ' ))\n",
        "    matrix[linha].append(valor)\n",
        "    if valor%2==0:\n",
        "      somapar+=valor\n",
        "\n",
        "    if coluna==2:\n",
        "      soma3coluna+=valor\n",
        "\n",
        "    if linha==1:\n",
        "      if coluna == 0:\n",
        "        maior = matrix[linha][coluna]\n",
        "      else:\n",
        "        if matrix[linha][coluna]> maior:\n",
        "          maior = matrix[linha][coluna]\n",
        "\n",
        "for l in range(0,3):\n",
        "  for c in range(0,3):\n",
        "    print(f'[{matrix[l][c]:^5}]' , end='')\n",
        "  print()\n",
        "\n",
        "\n",
        "print(f'A soma de todos os valores pares digitados é de {somapar}')\n",
        "print(f'A soma de todos os valores da 3 coluna é de {soma3coluna}')\n",
        "print(f'O maior valor da segunda linha é de {maior}')"
      ],
      "metadata": {
        "colab": {
          "base_uri": "https://localhost:8080/"
        },
        "id": "V8gU88_-sWaV",
        "outputId": "050c76a5-f6bf-4a32-f515-f9ec336f4576"
      },
      "execution_count": null,
      "outputs": [
        {
          "output_type": "stream",
          "name": "stdout",
          "text": [
            "Digite um valor para [0,0]: 1\n",
            "Digite um valor para [0,1]: 2\n",
            "Digite um valor para [0,2]: 3\n",
            "Digite um valor para [1,0]: 4\n",
            "Digite um valor para [1,1]: 5\n",
            "Digite um valor para [1,2]: 6\n",
            "Digite um valor para [2,0]: 7\n",
            "Digite um valor para [2,1]: 8\n",
            "Digite um valor para [2,2]: 9\n",
            "[  1  ][  2  ][  3  ]\n",
            "[  4  ][  5  ][  6  ]\n",
            "[  7  ][  8  ][  9  ]\n",
            "A soma de todos os valores pares digitados é de 20\n",
            "A soma de todos os valores da 3 coluna é de 18\n",
            "O maior valor da segunda linha é de 6\n"
          ]
        }
      ]
    },
    {
      "cell_type": "code",
      "source": [
        "#88\n",
        "import random\n",
        "import time\n",
        "resultado=[]\n",
        "jogos=[]\n",
        "print('-'*30)\n",
        "print('     JOGO NA MEGA SENA    ')\n",
        "print('-'*30)\n",
        "\n",
        "\n",
        "qtd = int(input('Quantas jogos você quer que eu sorteie? '))\n",
        "print('-='*3, f'Sorteando {qtd} jogos', '-=' *3)\n",
        "\n",
        "for qtds in range(0,qtd):\n",
        "  cont=0 \n",
        "  while True:\n",
        "    if cont == 6:\n",
        "      break\n",
        "    else:\n",
        "      palpite = random.randint(1,60)\n",
        "      while palpite not in resultado:\n",
        "        resultado.append(palpite)\n",
        "        cont+=1\n",
        "  jogos.append(resultado[:])\n",
        "  resultado.clear()\n",
        "      \n",
        "    \n",
        "\n",
        "  \n",
        "\n",
        "\n",
        "  \n",
        "  \n",
        "for p,v in enumerate(jogos):\n",
        "  print(f'Jogo {p+1}: {v}')\n",
        "  time.sleep(1)\n",
        "\n",
        "print('-='*5, 'Boa sorte!', '-=' *5)\n",
        "\n",
        "\n",
        "\n"
      ],
      "metadata": {
        "colab": {
          "base_uri": "https://localhost:8080/"
        },
        "id": "YqGpfmxcuCu9",
        "outputId": "3ebf40a1-63b6-45e5-d2f5-26d79ce92bef"
      },
      "execution_count": null,
      "outputs": [
        {
          "output_type": "stream",
          "name": "stdout",
          "text": [
            "------------------------------\n",
            "     JOGO NA MEGA SENA    \n",
            "------------------------------\n",
            "Quantas jogos você quer que eu sorteie? 10\n",
            "-=-=-= Sorteando 10 jogos -=-=-=\n",
            "Jogo 1: [29, 35, 9, 16, 22, 50]\n",
            "Jogo 2: [47, 16, 19, 17, 28, 3]\n",
            "Jogo 3: [54, 1, 4, 5, 7, 59]\n",
            "Jogo 4: [4, 18, 37, 60, 24, 21]\n",
            "Jogo 5: [4, 60, 10, 45, 43, 5]\n",
            "Jogo 6: [38, 20, 45, 22, 51, 34]\n",
            "Jogo 7: [22, 40, 12, 36, 38, 18]\n",
            "Jogo 8: [22, 44, 42, 41, 6, 7]\n",
            "Jogo 9: [52, 42, 3, 39, 13, 51]\n",
            "Jogo 10: [11, 56, 41, 3, 50, 1]\n",
            "-=-=-=-=-= Boa sorte! -=-=-=-=-=\n"
          ]
        }
      ]
    },
    {
      "cell_type": "code",
      "source": [
        "#89\n",
        "lista = []\n",
        "alunos = []\n",
        "\n",
        "while True:\n",
        "  nome = (str(input('Nome: ')))\n",
        "  nota1 =(float(input('Nota 1: ')))\n",
        "  nota2 = (float(input('Nota 2: ')))\n",
        "  media = (nota1+nota2)/2\n",
        "  lista.append(nome)\n",
        "  lista.append(nota1)\n",
        "  lista.append(nota2)\n",
        "  lista.append(media)\n",
        "  alunos.append(lista[:])\n",
        "  lista.clear()\n",
        "\n",
        "  continua = str(input('Deseja continuar? [S/N]: ')).strip().upper()\n",
        "  while continua not in 'SN':\n",
        "    continua = str(input('Digite um valor valido! Deseja continuar? [S/N]: ')).strip().upper()\n",
        "  if continua == 'N':\n",
        "    break\n",
        "\n",
        "\n",
        "\n",
        "\n",
        "print('Nº  Nome        Média')\n",
        "print('=-=-=-=-=-=-=-=-=-=-=')\n",
        "for posicao, valor in enumerate(alunos):\n",
        "  print(posicao, end='    ')\n",
        "  print(valor[0], end='           ')\n",
        "  print(valor[3])\n",
        "\n",
        "\n",
        "\n",
        "while True:\n",
        "  numero = int(input('Você quer ver as notas de qual aluno? [Digite o nº] - (999 - interrompe): '))\n",
        "  if numero == 999:\n",
        "    break\n",
        "  else:\n",
        "    if numero >= len(alunos):\n",
        "      print('Digite um numero valido!')\n",
        "    else:\n",
        "      print(f'Notas de {alunos[numero][0]} são {alunos[numero][1:3]}')\n",
        "\n",
        "print('Fim!')"
      ],
      "metadata": {
        "id": "vcd_wl9G2q1B",
        "colab": {
          "base_uri": "https://localhost:8080/"
        },
        "outputId": "5622138e-e7c3-4fdc-c725-21b18b31cfd1"
      },
      "execution_count": null,
      "outputs": [
        {
          "name": "stdout",
          "output_type": "stream",
          "text": [
            "Nome: luigi\n",
            "Nota 1: 6\n",
            "Nota 2: 6\n",
            "Deseja continuar? [S/N]: o\n",
            "Digite um valor valido! Deseja continuar? [S/N]: p\n",
            "Digite um valor valido! Deseja continuar? [S/N]: ç\n",
            "Digite um valor valido! Deseja continuar? [S/N]: s\n",
            "Nome: laisa\n",
            "Nota 1: 5\n",
            "Nota 2: 5\n",
            "Deseja continuar? [S/N]: o\n",
            "Digite um valor valido! Deseja continuar? [S/N]: p\n",
            "Digite um valor valido! Deseja continuar? [S/N]: s\n",
            "Nome: pedro\n",
            "Nota 1: 4\n",
            "Nota 2: 3\n",
            "Deseja continuar? [S/N]: n\n",
            "Nº  Nome        Média\n",
            "=-=-=-=-=-=-=-=-=-=-=\n",
            "0    luigi           6.0\n",
            "1    laisa           5.0\n",
            "2    pedro           3.5\n",
            "Você quer ver as notas de qual aluno? [Digite o nº] - (999interrompe): 0\n",
            "Notas de luigi são [6.0, 6.0]\n",
            "Você quer ver as notas de qual aluno? [Digite o nº] - (999interrompe): 1\n",
            "Notas de laisa são [5.0, 5.0]\n",
            "Você quer ver as notas de qual aluno? [Digite o nº] - (999interrompe): 2\n",
            "Notas de pedro são [4.0, 3.0]\n",
            "Você quer ver as notas de qual aluno? [Digite o nº] - (999interrompe): 3\n",
            "Digite um numero valido!\n",
            "Você quer ver as notas de qual aluno? [Digite o nº] - (999interrompe): 999\n"
          ]
        }
      ]
    },
    {
      "cell_type": "code",
      "source": [
        "filme = {'titulo': 'SW', 'ano': 1997, 'diretor':'George Lucas'}\n",
        "# valores da chave - v\n",
        "print(filme.values())\n",
        "#titulos da chave -k\n",
        "print(filme.keys())\n",
        "#tudo k,v\n",
        "print(filme.items())\n"
      ],
      "metadata": {
        "colab": {
          "base_uri": "https://localhost:8080/"
        },
        "id": "ySWHrESZXxWX",
        "outputId": "2db2d1fb-2149-400f-e2c9-b8c72a775d89"
      },
      "execution_count": null,
      "outputs": [
        {
          "output_type": "stream",
          "name": "stdout",
          "text": [
            "dict_values(['SW', 1997, 'George Lucas'])\n",
            "dict_keys(['titulo', 'ano', 'diretor'])\n",
            "dict_items([('titulo', 'SW'), ('ano', 1997), ('diretor', 'George Lucas')])\n"
          ]
        }
      ]
    },
    {
      "cell_type": "code",
      "source": [
        "#90\n",
        "aluno = {}\n",
        "\n",
        "aluno['nome'] = str(input('Nome: '))\n",
        "media = int(input('Média: '))\n",
        "aluno['media'] = media\n",
        "if media >=7:\n",
        "  aluno['situacao'] = 'Aprovado'\n",
        "else:\n",
        "  aluno['situacao'] = 'Reprovado'\n",
        "\n",
        "for k,v in aluno.items():\n",
        "  print(f'{k} é igual á {v}')"
      ],
      "metadata": {
        "id": "OS_ARo1wbEjp",
        "colab": {
          "base_uri": "https://localhost:8080/"
        },
        "outputId": "ef303919-df96-4dec-8c54-ee57ecd4fd32"
      },
      "execution_count": null,
      "outputs": [
        {
          "output_type": "stream",
          "name": "stdout",
          "text": [
            "Nome: luigi\n",
            "Média: 5\n",
            "nome é igual á luigi\n",
            "media é igual á 5\n",
            "situacao é igual á Reprovado\n"
          ]
        }
      ]
    },
    {
      "cell_type": "code",
      "source": [
        "#91\n",
        "import random\n",
        "from operator import itemgetter\n",
        "\n",
        "jogadores={'jogador1': random.randint(1,6),\n",
        "           'jogador2': random.randint(1,6),\n",
        "           'jogador3': random.randint(1,6),\n",
        "           'jogador4': random.randint(1,6)\n",
        "}\n",
        "\n",
        "rank = ()\n",
        "\n",
        "\n",
        "\n",
        "print('Valores sorteados')\n",
        "for k,v in jogadores.items():\n",
        "  print(f'O {k} tirou: {v}')\n",
        "\n",
        "rank = sorted(jogadores.items(), key=itemgetter(1), reverse=True)\n",
        "\n",
        "print('Valores em ordem')\n",
        "\n",
        "for j in range(len(rank)):\n",
        "  print(f'Em {j+1}º {rank[j][0]} tirou {rank[j][1]}')\n"
      ],
      "metadata": {
        "colab": {
          "base_uri": "https://localhost:8080/"
        },
        "id": "DA3eNIcDwPcp",
        "outputId": "9c1f57cc-9e9f-4648-83d5-cb1f73447d98"
      },
      "execution_count": null,
      "outputs": [
        {
          "output_type": "stream",
          "name": "stdout",
          "text": [
            "Valores sorteados\n",
            "O jogador1 tirou: 6\n",
            "O jogador2 tirou: 3\n",
            "O jogador3 tirou: 4\n",
            "O jogador4 tirou: 6\n",
            "Valores em ordem\n",
            "Em 1º jogador1 tirou 6\n",
            "Em 2º jogador4 tirou 6\n",
            "Em 3º jogador3 tirou 4\n",
            "Em 4º jogador2 tirou 3\n"
          ]
        }
      ]
    },
    {
      "cell_type": "code",
      "source": [
        "#92\n",
        "from datetime import date\n",
        "anoatual = date.today().year\n",
        "\n",
        "pessoa = {}\n",
        "\n",
        "pessoa['Nome']=str(input('Nome: '))\n",
        "nasc = int(input('Digite seu ano de nascimento: '))\n",
        "pessoa['Idade'] = anoatual - nasc\n",
        "pessoa['Cdt']=int(input('Carteira de trabalho: '))\n",
        "\n",
        "\n",
        "if pessoa['Cdt'] != 0:\n",
        "  pessoa['AnoC']=int(input('Digite o ano de contratação: '))\n",
        "  pessoa['Salario']=float(input('Digite seu salario: '))\n",
        "\n",
        "  pessoa['Aposentadoria']=pessoa['AnoC']+35-nasc\n",
        "\n",
        "print('=-'*5, ' Dados: ','=-'*5)\n",
        "for k, v in pessoa.items():\n",
        "  print(f'{k} é igual a {v}')\n",
        "\n"
      ],
      "metadata": {
        "colab": {
          "base_uri": "https://localhost:8080/"
        },
        "id": "srer5w-IEMc3",
        "outputId": "02d471b2-3c44-45ea-8313-8aaeab0305bf"
      },
      "execution_count": null,
      "outputs": [
        {
          "output_type": "stream",
          "name": "stdout",
          "text": [
            "Nome: luigi\n",
            "Digite seu ano de nascimento: 2001\n",
            "Carteira de trabalho: 2\n",
            "Digite o ano de contratação: 2022\n",
            "Digite seu salario: 2000\n",
            "=-=-=-=-=-  Dados:  =-=-=-=-=-\n",
            "Nome é igual a luigi\n",
            "Idade é igual a 21\n",
            "Cdt é igual a 2\n",
            "AnoC é igual a 2022\n",
            "Salario é igual a 2000.0\n",
            "Aposentadoria é igual a 56\n"
          ]
        }
      ]
    },
    {
      "cell_type": "code",
      "source": [
        "#93\n",
        "jogador = {}\n",
        "gols = list()\n",
        "\n",
        "nome = str(input('Nome: '))\n",
        "jogador['Nome'] = nome\n",
        "totpartida = int(input(f'Quantas partidas {nome} jogou? '))\n",
        "\n",
        "for p in range(totpartida):\n",
        "  gol = int(input(f'Quantos gols na partida {p+1}? '))\n",
        "  gols.append(gol)\n",
        "\n",
        "jogador['Gols']=gols\n",
        "total=sum(gols)\n",
        "jogador['Total']=total\n",
        "\n",
        "print('=-'*10)\n",
        "print(jogador)\n",
        "print('=-'*10)\n",
        "for k, v in jogador.items():\n",
        "  print(f'O campo {k} tem o valor {v}')\n",
        "print('=-'*10)\n",
        "\n",
        "print(f'O jogador {nome} jogou {totpartida} partidas')\n",
        "\n",
        "\n",
        "for p in range(totpartida):\n",
        "  print('=> Na partida {}, fez {}'.format(p+1,jogador['Gols'][p]))\n",
        "\n",
        "print('Foi um total de {} gols'.format(total))"
      ],
      "metadata": {
        "colab": {
          "base_uri": "https://localhost:8080/"
        },
        "id": "WtWV7kP_J5S8",
        "outputId": "819dc184-9696-4622-ebc4-7329dfc3b971"
      },
      "execution_count": null,
      "outputs": [
        {
          "output_type": "stream",
          "name": "stdout",
          "text": [
            "Nome: luigi\n",
            "Quantas partidas luigi jogou? 5\n",
            "Quantos gols na partida 1? 2\n",
            "Quantos gols na partida 2? 1\n",
            "Quantos gols na partida 3? 0\n",
            "Quantos gols na partida 4? 0\n",
            "Quantos gols na partida 5? 3\n",
            "=-=-=-=-=-=-=-=-=-=-\n",
            "{'Nome': 'luigi', 'Gols': [2, 1, 0, 0, 3], 'Total': 6}\n",
            "=-=-=-=-=-=-=-=-=-=-\n",
            "O campo Nome tem o valor luigi\n",
            "O campo Gols tem o valor [2, 1, 0, 0, 3]\n",
            "O campo Total tem o valor 6\n",
            "=-=-=-=-=-=-=-=-=-=-\n",
            "O jogador luigi jogou 6 partidas\n",
            "=> Na partida 1, fez 2\n",
            "=> Na partida 2, fez 1\n",
            "=> Na partida 3, fez 0\n",
            "=> Na partida 4, fez 0\n",
            "=> Na partida 5, fez 3\n",
            "Foi um total de 6 gols\n"
          ]
        }
      ]
    },
    {
      "cell_type": "code",
      "source": [
        "#94\n",
        "grupo = list()\n",
        "pessoa = {}\n",
        "somaidade=0\n",
        "\n",
        "while True:\n",
        "  pessoa['nome']=str(input('Nome: '))\n",
        "  sexo = str(input('Sexo [M/F]: ')).strip().upper()\n",
        "  while sexo not in 'MF':\n",
        "    sexo = str(input('INVALIDO! Sexo [M/F]: ')).strip().upper()\n",
        "  if sexo in 'MF':\n",
        "    pessoa['sexo']=sexo\n",
        "  idade=int(input('Idade: '))\n",
        "  somaidade+=idade\n",
        "  pessoa['idade']=idade\n",
        "\n",
        "  grupo.append(pessoa.copy())\n",
        "  pessoa.clear()\n",
        "  status = str(input('Deseja continuar? [S/N]: ')).strip().upper()\n",
        "  while status not in 'SN':\n",
        "    status = str(input('iNVALIDO! Deseja continuar? [S/N]: ')).strip().upper()\n",
        "  if status == 'N':\n",
        "    break\n",
        "\n",
        "\n",
        "print(grupo)\n",
        "\n",
        "print('O grupo tem {} pessoas'.format(len(grupo)))\n",
        "media = somaidade/len(grupo)\n",
        "print('A media de idade é de {} anos'.format(media))\n",
        "\n",
        "print('As mulhers são: ', end='')\n",
        "for p in grupo:\n",
        "  if p['sexo'] == 'F':\n",
        "    print(p['nome'], end=' ') \n",
        "\n",
        "print()\n",
        "print('Acima da média: ')\n",
        "for p in grupo:\n",
        "  if p['idade'] > media:\n",
        "    print(p, end=' ') \n",
        "\n"
      ],
      "metadata": {
        "colab": {
          "base_uri": "https://localhost:8080/"
        },
        "id": "CyYWIhUKO6sx",
        "outputId": "38fc9a2b-a32d-45cb-adc9-79de0f28aba3"
      },
      "execution_count": null,
      "outputs": [
        {
          "output_type": "stream",
          "name": "stdout",
          "text": [
            "Nome: luigi\n",
            "Sexo [M/F]: i\n",
            "INVALIDO! Sexo [M/F]: p\n",
            "INVALIDO! Sexo [M/F]: t\n",
            "INVALIDO! Sexo [M/F]: m\n",
            "Idade: 21\n",
            "Deseja continuar? [S/N]: p\n",
            "iNVALIDO! Deseja continuar? [S/N]: o\n",
            "iNVALIDO! Deseja continuar? [S/N]: s\n",
            "Nome: laisa\n",
            "Sexo [M/F]: t\n",
            "INVALIDO! Sexo [M/F]: f\n",
            "Idade: 23\n",
            "Deseja continuar? [S/N]:      s\n",
            "Nome: fernando\n",
            "Sexo [M/F]: m\n",
            "Idade: 50\n",
            "Deseja continuar? [S/N]: s\n",
            "Nome: jane\n",
            "Sexo [M/F]: f\n",
            "Idade: 60\n",
            "Deseja continuar? [S/N]: n\n",
            "[{'nome': 'luigi', 'sexo': 'M', 'idade': 21}, {'nome': 'laisa', 'sexo': 'F', 'idade': 23}, {'nome': 'fernando', 'sexo': 'M', 'idade': 50}, {'nome': 'jane', 'sexo': 'F', 'idade': 60}]\n",
            "O grupo tem 4 pessoas\n",
            "A media de idade é de 38.5 anos\n",
            "As mulhers são: laisa jane \n",
            "Acima da média: \n",
            "{'nome': 'fernando', 'sexo': 'M', 'idade': 50} {'nome': 'jane', 'sexo': 'F', 'idade': 60} "
          ]
        }
      ]
    },
    {
      "cell_type": "code",
      "source": [
        "#95\n",
        "jogador = {}\n",
        "gols = list()\n",
        "jogadores = list()\n",
        "\n",
        "while True:\n",
        "  nome = str(input('Nome: '))\n",
        "  jogador['Nome'] = nome\n",
        "  totpartida = int(input(f'Quantas partidas {nome} jogou? '))\n",
        "\n",
        "  for p in range(totpartida):\n",
        "    gol = int(input(f'Quantos gols na partida {p+1}? '))\n",
        "    gols.append(gol)\n",
        "\n",
        "  jogador['Gols']=gols[:]\n",
        "  total=sum(gols)\n",
        "  jogador['Total']=total\n",
        "\n",
        "  jogadores.append(jogador.copy())\n",
        "  gols.clear()\n",
        "  print('=-'*20)\n",
        "  status = str(input('Deseja continuar? [S/N]: ')).upper().strip()\n",
        "  while status not in 'SN':\n",
        "    status = str(input('INCORRETO! Deseja continuar? [S/N]: ')).upper().strip()\n",
        "  if status == 'N':\n",
        "    break\n",
        "\n",
        "print('=-'*20)\n",
        "print('COD    NOME        GOLS            TOTAL')\n",
        "for p, v in enumerate(jogadores):\n",
        "  print('{}       {}         {}          {}'.format(p,v['Nome'], v['Gols'], v['Total']))\n",
        "\n",
        "print('=-'*20)\n",
        "\n",
        "while True:\n",
        "  dado=int(input('Mostrar dados de qual jogador? [999- sair] '))\n",
        "  if dado == 999:\n",
        "    break\n",
        "  else:\n",
        "    while len(jogadores) <= dado:\n",
        "      dado=int(input('INCORRETO! Mostrar dados de qual jogador? [999- sair] '))\n",
        "    else:\n",
        "\n",
        "      print('Levatamento do jogador {}'.format(jogadores[dado]['Nome']))\n",
        "\n",
        "      for g in range(totpartida):\n",
        "        print('  => No jogo {} fez {} gols.'.format(g+1,jogadores[dado]['Gols'][g]))\n",
        "\n",
        "\n",
        "print('Fim!')"
      ],
      "metadata": {
        "colab": {
          "base_uri": "https://localhost:8080/"
        },
        "id": "CuKi6PD2YlSx",
        "outputId": "e2d78d30-847f-4baf-f6f9-4e389c6ab88e"
      },
      "execution_count": null,
      "outputs": [
        {
          "output_type": "stream",
          "name": "stdout",
          "text": [
            "Nome: lu\n",
            "Quantas partidas lu jogou? 3\n",
            "Quantos gols na partida 1? 5\n",
            "Quantos gols na partida 2? 2\n",
            "Quantos gols na partida 3? 0\n",
            "=-=-=-=-=-=-=-=-=-=-=-=-=-=-=-=-=-=-=-=-\n",
            "Deseja continuar? [S/N]: s\n",
            "Nome: li\n",
            "Quantas partidas li jogou? 2\n",
            "Quantos gols na partida 1? 0\n",
            "Quantos gols na partida 2? 2\n",
            "=-=-=-=-=-=-=-=-=-=-=-=-=-=-=-=-=-=-=-=-\n",
            "Deseja continuar? [S/N]: n\n",
            "=-=-=-=-=-=-=-=-=-=-=-=-=-=-=-=-=-=-=-=-\n",
            "COD    NOME        GOLS            TOTAL\n",
            "0       lu         [5, 2, 0]          7\n",
            "1       li         [0, 2]          2\n",
            "=-=-=-=-=-=-=-=-=-=-=-=-=-=-=-=-=-=-=-=-\n",
            "Mostrar dados de qual jogador? [999- sair] 1\n",
            "Levatamento do jogador li\n",
            "  => No jogo 1 fez 0 gols.\n",
            "  => No jogo 2 fez 2 gols.\n",
            "Mostrar dados de qual jogador? [999- sair] 66\n",
            "INCORRETO! Mostrar dados de qual jogador? [999- sair] 999\n",
            "INCORRETO! Mostrar dados de qual jogador? [999- sair] 1\n",
            "Levatamento do jogador li\n",
            "  => No jogo 1 fez 0 gols.\n",
            "  => No jogo 2 fez 2 gols.\n",
            "Mostrar dados de qual jogador? [999- sair] 999\n",
            "Fim!\n"
          ]
        }
      ]
    },
    {
      "cell_type": "code",
      "source": [
        "#96\n",
        "def area(l,c):\n",
        "  a = l*c\n",
        "  print(f'A área de um terrno {l}x{c} é de {a}m2')\n",
        "\n",
        "l=float(input('LARGURA (M): '))\n",
        "c=float(input('Comprimento (M): '))\n",
        "area(l, c)"
      ],
      "metadata": {
        "colab": {
          "base_uri": "https://localhost:8080/"
        },
        "outputId": "2bc5ed86-de46-4cc0-9a84-eb7f961e5c23",
        "id": "F4iDxSyl4iem"
      },
      "execution_count": null,
      "outputs": [
        {
          "output_type": "stream",
          "name": "stdout",
          "text": [
            "LARGURA (M): 4.5\n",
            "Comprimento (M): 8\n",
            "A área de um terrno 4.5x8.0 é de 36.0m2\n"
          ]
        }
      ]
    },
    {
      "cell_type": "code",
      "source": [
        "#97\n",
        "def escreva(msg):\n",
        "  tam=len(msg) + 6\n",
        "  print('~'*tam)\n",
        "  print(f'  ', msg)\n",
        "  print('~'*tam)\n",
        "\n",
        "\n",
        "escreva('Luigi Ferrari')\n",
        "escreva('Curso de Python no YouTube')\n",
        "escreva('CeV')"
      ],
      "metadata": {
        "colab": {
          "base_uri": "https://localhost:8080/"
        },
        "id": "YoxgJpykBx9O",
        "outputId": "762d024d-64c4-4f66-ca37-fbafb0c1d136"
      },
      "execution_count": null,
      "outputs": [
        {
          "output_type": "stream",
          "name": "stdout",
          "text": [
            "~~~~~~~~~~~~~~~~~~~\n",
            "   Luigi Ferrari\n",
            "~~~~~~~~~~~~~~~~~~~\n",
            "~~~~~~~~~~~~~~~~~~~~~~~~~~~~~~~~\n",
            "   Curso de Python no YouTube\n",
            "~~~~~~~~~~~~~~~~~~~~~~~~~~~~~~~~\n",
            "~~~~~~~~~\n",
            "   CeV\n",
            "~~~~~~~~~\n"
          ]
        }
      ]
    },
    {
      "cell_type": "code",
      "source": [
        "#98\n",
        "def contador(i,f,p):\n",
        "  if p == 0:\n",
        "    p=1\n",
        "\n",
        "  if i > f and p>0:\n",
        "    p=-p\n",
        "  for n in range(i,f+p,p):\n",
        "    print(n, end=' ')\n",
        "  print()\n",
        "\n",
        "\n",
        "contador(1,10,1)\n",
        "contador(10,0,2)\n",
        "print('Agora é a sua vez!')\n",
        "inicio=int(input('Inicio: '))\n",
        "fim=int(input('Fim: '))\n",
        "passo=int(input('Passo: '))\n",
        "contador(inicio,fim,passo)"
      ],
      "metadata": {
        "colab": {
          "base_uri": "https://localhost:8080/"
        },
        "id": "GjE6gPcODia6",
        "outputId": "40623eb5-c502-446c-9342-9b7620cef97a"
      },
      "execution_count": null,
      "outputs": [
        {
          "output_type": "stream",
          "name": "stdout",
          "text": [
            "1 2 3 4 5 6 7 8 9 10 \n",
            "10 8 6 4 2 0 \n",
            "Agora é a sua vez!\n",
            "Inicio: 20\n",
            "Fim: 10\n",
            "Passo: 0\n",
            "20 19 18 17 16 15 14 13 12 11 10 \n"
          ]
        }
      ]
    },
    {
      "cell_type": "code",
      "source": [
        "#99\n",
        "def maior(* num):\n",
        "  if len(num) == 0:\n",
        "    print('Sem Números inseridos!')\n",
        "  else:\n",
        "    maior=max(num)\n",
        "    print(maior)\n",
        "\n",
        "\n",
        "maior(3,4,6,32,4)\n",
        "maior(3,6,3,6,9,5,2,65,6)\n",
        "maior()"
      ],
      "metadata": {
        "colab": {
          "base_uri": "https://localhost:8080/"
        },
        "id": "vk1DN3hYIn6W",
        "outputId": "089c3e70-d26f-4caa-cc31-d9596c1c94b4"
      },
      "execution_count": null,
      "outputs": [
        {
          "output_type": "stream",
          "name": "stdout",
          "text": [
            "32\n",
            "65\n",
            "Sem Números inseridos!\n"
          ]
        }
      ]
    },
    {
      "cell_type": "code",
      "source": [
        "#100\n",
        "import random\n",
        "\n",
        "lista=list()\n",
        "def sorteio():\n",
        "  for n in range(5):\n",
        "    lista.append(random.randint(0,10))\n",
        "  print(lista)\n",
        "\n",
        "def somapar(lst):\n",
        "  s=0\n",
        "  for e in lst:\n",
        "    if e%2==0:\n",
        "      s+=e\n",
        "  print(f'A soma dos numeros pares de {lista} é igual a {s}')\n",
        "\n",
        "sorteio()\n",
        "\n",
        "somapar(lista)"
      ],
      "metadata": {
        "colab": {
          "base_uri": "https://localhost:8080/"
        },
        "id": "TzehFBprJjcA",
        "outputId": "74c9f497-d0ca-4deb-f93d-1ccee20b3225"
      },
      "execution_count": 2,
      "outputs": [
        {
          "output_type": "stream",
          "name": "stdout",
          "text": [
            "[6, 10, 2, 0, 7]\n",
            "A soma dos numeros pares de [6, 10, 2, 0, 7] é igual a 18\n"
          ]
        }
      ]
    },
    {
      "cell_type": "code",
      "source": [
        "#101\n",
        "from datetime import date\n",
        "\n",
        "def analise(ano):\n",
        "  idade = date.today().year - ano\n",
        "  if idade < 16:\n",
        "    return f'Com {idade} anos: Não vota!'\n",
        "  elif idade >= 16 and idade <= 18 or idade > 70:\n",
        "    return f'Com {idade} anos: Voto não obrigatorio!'\n",
        "  else:\n",
        "    return f'Com {idade} anos: Voto obrigatorio!'\n",
        "\n",
        "\n",
        "anon = int(input('Data de nascimento: '))\n",
        "analise(anon)"
      ],
      "metadata": {
        "colab": {
          "base_uri": "https://localhost:8080/",
          "height": 53
        },
        "id": "Al4xsl11kv4U",
        "outputId": "41fa5a70-7801-47c2-9c44-a58ab9a83930"
      },
      "execution_count": 11,
      "outputs": [
        {
          "name": "stdout",
          "output_type": "stream",
          "text": [
            "Data de nascimento: 2001\n"
          ]
        },
        {
          "output_type": "execute_result",
          "data": {
            "text/plain": [
              "'Com 21 anos: Voto obrigatorio!'"
            ],
            "application/vnd.google.colaboratory.intrinsic+json": {
              "type": "string"
            }
          },
          "metadata": {},
          "execution_count": 11
        }
      ]
    },
    {
      "cell_type": "code",
      "source": [
        "#102\n",
        "\n",
        "def fatorial(num, show=False):\n",
        "  cont=num\n",
        "  valor=1\n",
        "\n",
        "  for cont in range(cont, 0, -1):\n",
        "    valor*=cont\n",
        "    if show == True:\n",
        "      print(cont, end='')\n",
        "      if cont > 1:\n",
        "        print(' x ', end='')\n",
        "      else:\n",
        "        print(' = ', end='')\n",
        "\n",
        "\n",
        "  return valor\n",
        "\n",
        "\n",
        "print(fatorial(5, show=True))\n"
      ],
      "metadata": {
        "colab": {
          "base_uri": "https://localhost:8080/"
        },
        "id": "EGp20xqPnkgd",
        "outputId": "6b4f3683-1bf4-41d2-9abc-011fcd4b7563"
      },
      "execution_count": 19,
      "outputs": [
        {
          "output_type": "stream",
          "name": "stdout",
          "text": [
            "120\n"
          ]
        }
      ]
    },
    {
      "cell_type": "code",
      "source": [
        "#103\n",
        "\n",
        "def analise(nome='<Desconhecido>', gols=0):\n",
        "  print(f'O jogador {nome} fez {gols} gol(s) no campeonato.')\n",
        "\n",
        "nome=str(input('Nome: '))\n",
        "g=str(input('Gols: '))\n",
        "if g.isnumeric():\n",
        "  g=int(g)\n",
        "else:\n",
        "  g=0\n",
        "\n",
        "if nome.strip() == '':\n",
        "  analise(gols=g)\n",
        "else:\n",
        "  analise(nome,g)"
      ],
      "metadata": {
        "colab": {
          "base_uri": "https://localhost:8080/"
        },
        "id": "scBFzT5eqOkg",
        "outputId": "552831a7-eb30-4251-c18d-fd133059d19c"
      },
      "execution_count": 46,
      "outputs": [
        {
          "output_type": "stream",
          "name": "stdout",
          "text": [
            "Nome: \n",
            "Gols: 6\n",
            "O jogador <Desconhecido> fez 6 gol(s) no campeonato.\n"
          ]
        }
      ]
    },
    {
      "cell_type": "code",
      "source": [
        "#104\n",
        "def leiaInt(msg):\n",
        "  n = input(msg).strip()\n",
        "  while n.isnumeric() == False:\n",
        "    print('Erro! Digite um número inteiro válido!')\n",
        "    n = input(msg).strip()\n",
        "  return n\n",
        "\n",
        "\n",
        "n = leiaInt('Digite um número: ')\n",
        "print(f'Você digitou o número: {n}')"
      ],
      "metadata": {
        "colab": {
          "base_uri": "https://localhost:8080/"
        },
        "id": "YEwCFr2Xt0vP",
        "outputId": "7d3b4470-6a40-4b3d-d795-ac04470d8d52"
      },
      "execution_count": 57,
      "outputs": [
        {
          "output_type": "stream",
          "name": "stdout",
          "text": [
            "Digite um número: gfh\n",
            "Erro! Digite um número inteiro válido!\n",
            "Digite um número: fgh\n",
            "Erro! Digite um número inteiro válido!\n",
            "Digite um número: fghrt\n",
            "Erro! Digite um número inteiro válido!\n",
            "Digite um número:    5fgh\n",
            "Erro! Digite um número inteiro válido!\n",
            "Digite um número:    5\n",
            "Você digitou o número: 5\n"
          ]
        }
      ]
    },
    {
      "cell_type": "code",
      "source": [
        "#105\n",
        "def notas(*n, sit=False):\n",
        "  \"\"\"\n",
        "  Programa para passar as notas dos alunos e ver a situcao da sala.\n",
        "  (sit=True - para ver a situacao da sala)\n",
        "  \"\"\"\n",
        "  lista = list()\n",
        "  dicionario = {}\n",
        "  media = 0\n",
        "\n",
        "\n",
        "  for nota in n:\n",
        "    lista.append(nota)\n",
        "\n",
        "  media = sum(lista)/len(lista)\n",
        "\n",
        "  if sit == True:\n",
        "    if media > 7:\n",
        "      msg='Boa!'\n",
        "    elif media <= 7 and media > 4:\n",
        "      msg='Razoavel!'\n",
        "    else:\n",
        "      msg='Ruim'\n",
        "    dicionario['Situacao'] = msg\n",
        "\n",
        "  dicionario['Quantidade Notas'] = len(n)\n",
        "  dicionario['Maior'] = max(lista)\n",
        "  dicionario['Menor'] = min(lista)\n",
        "  dicionario['Media'] = media\n",
        "  return dicionario\n",
        "\n",
        "\n",
        "\n",
        "resp = notas(5.5, 9.5, 10.0, 6.5, sit=True)\n",
        "print(resp)\n",
        "\n",
        "help(notas)"
      ],
      "metadata": {
        "colab": {
          "base_uri": "https://localhost:8080/"
        },
        "id": "RaSsSz9Qw64c",
        "outputId": "37dbdb49-2961-4cc1-e4f9-84c64568bfad"
      },
      "execution_count": 73,
      "outputs": [
        {
          "output_type": "stream",
          "name": "stdout",
          "text": [
            "{'Situacao': 'Boa!', 'Quantidade Notas': 4, 'Maior': 10.0, 'Menor': 5.5, 'Media': 7.875}\n",
            "Help on function notas in module __main__:\n",
            "\n",
            "notas(*n, sit=False)\n",
            "    Programa para passar as notas dos alunos e ver a situcao da sala.\n",
            "    (sit=True - para ver a situacao da sala)\n",
            "\n"
          ]
        }
      ]
    },
    {
      "cell_type": "code",
      "source": [
        "#106\n",
        "def escreva(msg):\n",
        "  tam=len(msg) + 6\n",
        "  print('~'*tam)\n",
        "  print(f'  ', msg)\n",
        "  print('~'*tam)\n",
        "\n",
        "\n",
        "def ajuda(c):\n",
        "  escreva(f'    \\033[31mAcessando o manual do comando {c}\\033[0;0m')\n",
        "  print('\\033[32m')\n",
        "  print(help(c))\n",
        "  print('\\033[0;0m')\n",
        "  \n",
        "\n",
        "\n",
        "\n",
        "comando = ''\n",
        "while True:\n",
        "  print('\\033[34m')\n",
        "  escreva('SISTEMA AJUDA PYTHON')\n",
        "  print('\\033[0;0m')\n",
        "  comando = str(input('Função: '))\n",
        "  if comando.lower() == 'fim':\n",
        "    break\n",
        "  else:\n",
        "    ajuda(comando)\n",
        "      \n",
        "  \n",
        "escreva('Até mais!')"
      ],
      "metadata": {
        "colab": {
          "base_uri": "https://localhost:8080/"
        },
        "id": "WdgIpG9p1mcA",
        "outputId": "7c923a47-9e74-4d9a-f9f9-59baf397ae8b"
      },
      "execution_count": 115,
      "outputs": [
        {
          "output_type": "stream",
          "name": "stdout",
          "text": [
            "\u001b[34m\n",
            "~~~~~~~~~~~~~~~~~~~~~~~~~~\n",
            "   SISTEMA AJUDA PYTHON\n",
            "~~~~~~~~~~~~~~~~~~~~~~~~~~\n",
            "\u001b[0;0m\n",
            "Função: len\n",
            "~~~~~~~~~~~~~~~~~~~~~~~~~~~~~~~~~~~~~~~~~~~~~~~~~~~~~~\n",
            "       \u001b[31mAcessando o manual do comando len\u001b[0;0m\n",
            "~~~~~~~~~~~~~~~~~~~~~~~~~~~~~~~~~~~~~~~~~~~~~~~~~~~~~~\n",
            "\u001b[32m\n",
            "Help on built-in function len in module builtins:\n",
            "\n",
            "len(obj, /)\n",
            "    Return the number of items in a container.\n",
            "\n",
            "None\n",
            "\u001b[0;0m\n",
            "\u001b[34m\n",
            "~~~~~~~~~~~~~~~~~~~~~~~~~~\n",
            "   SISTEMA AJUDA PYTHON\n",
            "~~~~~~~~~~~~~~~~~~~~~~~~~~\n",
            "\u001b[0;0m\n",
            "Função: print\n",
            "~~~~~~~~~~~~~~~~~~~~~~~~~~~~~~~~~~~~~~~~~~~~~~~~~~~~~~~~\n",
            "       \u001b[31mAcessando o manual do comando print\u001b[0;0m\n",
            "~~~~~~~~~~~~~~~~~~~~~~~~~~~~~~~~~~~~~~~~~~~~~~~~~~~~~~~~\n",
            "\u001b[32m\n",
            "Help on built-in function print in module builtins:\n",
            "\n",
            "print(...)\n",
            "    print(value, ..., sep=' ', end='\\n', file=sys.stdout, flush=False)\n",
            "    \n",
            "    Prints the values to a stream, or to sys.stdout by default.\n",
            "    Optional keyword arguments:\n",
            "    file:  a file-like object (stream); defaults to the current sys.stdout.\n",
            "    sep:   string inserted between values, default a space.\n",
            "    end:   string appended after the last value, default a newline.\n",
            "    flush: whether to forcibly flush the stream.\n",
            "\n",
            "None\n",
            "\u001b[0;0m\n",
            "\u001b[34m\n",
            "~~~~~~~~~~~~~~~~~~~~~~~~~~\n",
            "   SISTEMA AJUDA PYTHON\n",
            "~~~~~~~~~~~~~~~~~~~~~~~~~~\n",
            "\u001b[0;0m\n",
            "Função: fim\n",
            "~~~~~~~~~~~~~~~\n",
            "   Até mais!\n",
            "~~~~~~~~~~~~~~~\n"
          ]
        }
      ]
    },
    {
      "cell_type": "code",
      "source": [
        "#107\n"
      ],
      "metadata": {
        "id": "IArBt0ZA_Myb"
      },
      "execution_count": null,
      "outputs": []
    }
  ]
}